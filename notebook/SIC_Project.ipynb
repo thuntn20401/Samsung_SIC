{
 "cells": [
  {
   "cell_type": "markdown",
   "id": "c53b4a53",
   "metadata": {},
   "source": [
    "# BigMart Sales Prediction"
   ]
  },
  {
   "cell_type": "markdown",
   "id": "9414813e",
   "metadata": {},
   "source": [
    "## 1. Thư viện"
   ]
  },
  {
   "cell_type": "code",
   "execution_count": 112,
   "id": "b2d01a46",
   "metadata": {},
   "outputs": [],
   "source": [
    "import warnings\n",
    "warnings.filterwarnings('ignore')  #tắt việc hiển thị các cảnh báo (warnings) trong quá trình thực thi chương trình"
   ]
  },
  {
   "cell_type": "code",
   "execution_count": 113,
   "id": "e00dba30",
   "metadata": {},
   "outputs": [],
   "source": [
    "import pandas as pd  #xử lý dữ liệu dạng bảng (dataframe)\n",
    "import numpy as np   #cung cấp nhiều hàm toán học và logic làm việc với mảng dữ liệu\n",
    "\n",
    "import matplotlib.pyplot as plt #trực quan hóa, tạo các biểu đồ đồ thị, histogram, scatter plot\n",
    "import seaborn as sns #trực quan hóa dữ liệu dựa trên Matplotlib\n",
    "from scipy.stats import chi2_contingency #tính toán khoa học và toán học, sử dụng cho thống kê\n",
    "from scipy.stats import f_oneway \n",
    "#ông cụ và thuật toán cho việc xử lý dữ liệu, huấn luyện mô hình, và đánh giá mô hình machine learning\n",
    "from sklearn import preprocessing\n",
    "from sklearn.linear_model import LinearRegression, ElasticNet\n",
    "from sklearn.ensemble import RandomForestRegressor,ExtraTreesRegressor, GradientBoostingRegressor\n",
    "from sklearn.neural_network import MLPRegressor\n",
    "from sklearn.model_selection import KFold, cross_val_score # chia dữ liệu\n",
    "from sklearn.preprocessing import LabelEncoder #chuyển đổi dữ liệu dạng chuỗi (categorical) sang dạng số (numerical)"
   ]
  },
  {
   "cell_type": "markdown",
   "id": "98b0fa7d",
   "metadata": {},
   "source": [
    "## 2. Đọc dữ liệu"
   ]
  },
  {
   "cell_type": "code",
   "execution_count": 114,
   "id": "585c3ee5-7301-47ce-980c-f7eddb7e8608",
   "metadata": {},
   "outputs": [],
   "source": [
    "data = pd.read_csv(\"./Data/train_kOBLwZA.csv\")\n",
    "test_data = pd.read_csv(\"./Data/test_t02dQwI.csv\")"
   ]
  },
  {
   "cell_type": "markdown",
   "id": "f9ddd9fc-4e63-49cb-988e-76b68f669bdc",
   "metadata": {},
   "source": [
    "## 3. Kiểm tra tập dữ liệu"
   ]
  },
  {
   "cell_type": "code",
   "execution_count": 115,
   "id": "860400a4-7644-430a-ba2a-aac5a9d65008",
   "metadata": {},
   "outputs": [
    {
     "data": {
      "text/html": [
       "<div>\n",
       "<style scoped>\n",
       "    .dataframe tbody tr th:only-of-type {\n",
       "        vertical-align: middle;\n",
       "    }\n",
       "\n",
       "    .dataframe tbody tr th {\n",
       "        vertical-align: top;\n",
       "    }\n",
       "\n",
       "    .dataframe thead th {\n",
       "        text-align: right;\n",
       "    }\n",
       "</style>\n",
       "<table border=\"1\" class=\"dataframe\">\n",
       "  <thead>\n",
       "    <tr style=\"text-align: right;\">\n",
       "      <th></th>\n",
       "      <th>Item_Identifier</th>\n",
       "      <th>Item_Weight</th>\n",
       "      <th>Item_Fat_Content</th>\n",
       "      <th>Item_Visibility</th>\n",
       "      <th>Item_Type</th>\n",
       "      <th>Item_MRP</th>\n",
       "      <th>Outlet_Identifier</th>\n",
       "      <th>Outlet_Establishment_Year</th>\n",
       "      <th>Outlet_Size</th>\n",
       "      <th>Outlet_Location_Type</th>\n",
       "      <th>Outlet_Type</th>\n",
       "      <th>Item_Outlet_Sales</th>\n",
       "    </tr>\n",
       "  </thead>\n",
       "  <tbody>\n",
       "    <tr>\n",
       "      <th>0</th>\n",
       "      <td>FDA15</td>\n",
       "      <td>9.30</td>\n",
       "      <td>Low Fat</td>\n",
       "      <td>0.016047</td>\n",
       "      <td>Dairy</td>\n",
       "      <td>249.8092</td>\n",
       "      <td>OUT049</td>\n",
       "      <td>1999</td>\n",
       "      <td>Medium</td>\n",
       "      <td>Tier 1</td>\n",
       "      <td>Supermarket Type1</td>\n",
       "      <td>3735.1380</td>\n",
       "    </tr>\n",
       "    <tr>\n",
       "      <th>1</th>\n",
       "      <td>DRC01</td>\n",
       "      <td>5.92</td>\n",
       "      <td>Regular</td>\n",
       "      <td>0.019278</td>\n",
       "      <td>Soft Drinks</td>\n",
       "      <td>48.2692</td>\n",
       "      <td>OUT018</td>\n",
       "      <td>2009</td>\n",
       "      <td>Medium</td>\n",
       "      <td>Tier 3</td>\n",
       "      <td>Supermarket Type2</td>\n",
       "      <td>443.4228</td>\n",
       "    </tr>\n",
       "    <tr>\n",
       "      <th>2</th>\n",
       "      <td>FDN15</td>\n",
       "      <td>17.50</td>\n",
       "      <td>Low Fat</td>\n",
       "      <td>0.016760</td>\n",
       "      <td>Meat</td>\n",
       "      <td>141.6180</td>\n",
       "      <td>OUT049</td>\n",
       "      <td>1999</td>\n",
       "      <td>Medium</td>\n",
       "      <td>Tier 1</td>\n",
       "      <td>Supermarket Type1</td>\n",
       "      <td>2097.2700</td>\n",
       "    </tr>\n",
       "    <tr>\n",
       "      <th>3</th>\n",
       "      <td>FDX07</td>\n",
       "      <td>19.20</td>\n",
       "      <td>Regular</td>\n",
       "      <td>0.000000</td>\n",
       "      <td>Fruits and Vegetables</td>\n",
       "      <td>182.0950</td>\n",
       "      <td>OUT010</td>\n",
       "      <td>1998</td>\n",
       "      <td>NaN</td>\n",
       "      <td>Tier 3</td>\n",
       "      <td>Grocery Store</td>\n",
       "      <td>732.3800</td>\n",
       "    </tr>\n",
       "    <tr>\n",
       "      <th>4</th>\n",
       "      <td>NCD19</td>\n",
       "      <td>8.93</td>\n",
       "      <td>Low Fat</td>\n",
       "      <td>0.000000</td>\n",
       "      <td>Household</td>\n",
       "      <td>53.8614</td>\n",
       "      <td>OUT013</td>\n",
       "      <td>1987</td>\n",
       "      <td>High</td>\n",
       "      <td>Tier 3</td>\n",
       "      <td>Supermarket Type1</td>\n",
       "      <td>994.7052</td>\n",
       "    </tr>\n",
       "  </tbody>\n",
       "</table>\n",
       "</div>"
      ],
      "text/plain": [
       "  Item_Identifier  Item_Weight Item_Fat_Content  Item_Visibility  \\\n",
       "0           FDA15         9.30          Low Fat         0.016047   \n",
       "1           DRC01         5.92          Regular         0.019278   \n",
       "2           FDN15        17.50          Low Fat         0.016760   \n",
       "3           FDX07        19.20          Regular         0.000000   \n",
       "4           NCD19         8.93          Low Fat         0.000000   \n",
       "\n",
       "               Item_Type  Item_MRP Outlet_Identifier  \\\n",
       "0                  Dairy  249.8092            OUT049   \n",
       "1            Soft Drinks   48.2692            OUT018   \n",
       "2                   Meat  141.6180            OUT049   \n",
       "3  Fruits and Vegetables  182.0950            OUT010   \n",
       "4              Household   53.8614            OUT013   \n",
       "\n",
       "   Outlet_Establishment_Year Outlet_Size Outlet_Location_Type  \\\n",
       "0                       1999      Medium               Tier 1   \n",
       "1                       2009      Medium               Tier 3   \n",
       "2                       1999      Medium               Tier 1   \n",
       "3                       1998         NaN               Tier 3   \n",
       "4                       1987        High               Tier 3   \n",
       "\n",
       "         Outlet_Type  Item_Outlet_Sales  \n",
       "0  Supermarket Type1          3735.1380  \n",
       "1  Supermarket Type2           443.4228  \n",
       "2  Supermarket Type1          2097.2700  \n",
       "3      Grocery Store           732.3800  \n",
       "4  Supermarket Type1           994.7052  "
      ]
     },
     "execution_count": 115,
     "metadata": {},
     "output_type": "execute_result"
    }
   ],
   "source": [
    "data.head() #5 dòng đầu tiên của tập dữ liệu"
   ]
  },
  {
   "cell_type": "code",
   "execution_count": 116,
   "id": "c786c38d",
   "metadata": {},
   "outputs": [
    {
     "name": "stdout",
     "output_type": "stream",
     "text": [
      "<class 'pandas.core.frame.DataFrame'>\n",
      "RangeIndex: 8523 entries, 0 to 8522\n",
      "Data columns (total 12 columns):\n",
      " #   Column                     Non-Null Count  Dtype  \n",
      "---  ------                     --------------  -----  \n",
      " 0   Item_Identifier            8523 non-null   object \n",
      " 1   Item_Weight                7060 non-null   float64\n",
      " 2   Item_Fat_Content           8523 non-null   object \n",
      " 3   Item_Visibility            8523 non-null   float64\n",
      " 4   Item_Type                  8523 non-null   object \n",
      " 5   Item_MRP                   8523 non-null   float64\n",
      " 6   Outlet_Identifier          8523 non-null   object \n",
      " 7   Outlet_Establishment_Year  8523 non-null   int64  \n",
      " 8   Outlet_Size                6113 non-null   object \n",
      " 9   Outlet_Location_Type       8523 non-null   object \n",
      " 10  Outlet_Type                8523 non-null   object \n",
      " 11  Item_Outlet_Sales          8523 non-null   float64\n",
      "dtypes: float64(4), int64(1), object(7)\n",
      "memory usage: 799.2+ KB\n"
     ]
    }
   ],
   "source": [
    "data.info()"
   ]
  },
  {
   "cell_type": "markdown",
   "id": "529036a2-d280-417d-ae98-ec6f4dcbbfc1",
   "metadata": {},
   "source": [
    "tập dữ liệu bị thiếu các giá trị và các kiểu dữ liệu. Có thể thay đổi để phù hợp với mô hình hồi quy"
   ]
  },
  {
   "cell_type": "code",
   "execution_count": 117,
   "id": "802a1080",
   "metadata": {},
   "outputs": [
    {
     "data": {
      "text/plain": [
       "Item_Identifier                 0\n",
       "Item_Weight                  1463\n",
       "Item_Fat_Content                0\n",
       "Item_Visibility                 0\n",
       "Item_Type                       0\n",
       "Item_MRP                        0\n",
       "Outlet_Identifier               0\n",
       "Outlet_Establishment_Year       0\n",
       "Outlet_Size                  2410\n",
       "Outlet_Location_Type            0\n",
       "Outlet_Type                     0\n",
       "Item_Outlet_Sales               0\n",
       "dtype: int64"
      ]
     },
     "execution_count": 117,
     "metadata": {},
     "output_type": "execute_result"
    }
   ],
   "source": [
    "data.isnull().sum()"
   ]
  },
  {
   "cell_type": "markdown",
   "id": "68894661-5e39-4cdb-b426-f43175fabba2",
   "metadata": {},
   "source": [
    "## 4. Tiền xử lý dữ liệu"
   ]
  },
  {
   "cell_type": "markdown",
   "id": "160ce70c",
   "metadata": {},
   "source": [
    "### Gán item weight với giá trị tối đa của các item identifier khác nhau"
   ]
  },
  {
   "cell_type": "code",
   "execution_count": 118,
   "id": "b817a0ff-38e4-498a-af78-5052dc758b87",
   "metadata": {},
   "outputs": [],
   "source": [
    "data['Item_Weight'] = data['Item_Weight'].fillna(data.groupby('Item_Identifier')['Item_Weight'].transform('max'))"
   ]
  },
  {
   "cell_type": "code",
   "execution_count": 119,
   "id": "04597de8",
   "metadata": {},
   "outputs": [
    {
     "data": {
      "text/plain": [
       "Item_Identifier                 0\n",
       "Item_Weight                     4\n",
       "Item_Fat_Content                0\n",
       "Item_Visibility                 0\n",
       "Item_Type                       0\n",
       "Item_MRP                        0\n",
       "Outlet_Identifier               0\n",
       "Outlet_Establishment_Year       0\n",
       "Outlet_Size                  2410\n",
       "Outlet_Location_Type            0\n",
       "Outlet_Type                     0\n",
       "Item_Outlet_Sales               0\n",
       "dtype: int64"
      ]
     },
     "execution_count": 119,
     "metadata": {},
     "output_type": "execute_result"
    }
   ],
   "source": [
    "data.isnull().sum()"
   ]
  },
  {
   "cell_type": "markdown",
   "id": "7c68ecbb",
   "metadata": {},
   "source": [
    "Nhóm dữ liệu theo các giá trị trong cột \"Item_Identifier\" Chỉ định cột cần xử lý, tức là \"Item_Weight\". .transform('max'): Áp dụng hàm tính toán 'max' trên mỗi nhóm, tức là tìm giá trị lớn nhất của \"Item_Weight\" trong mỗi nhóm \"Item_Identifier\". Kết quả là một Series có cùng chiều dữ liệu với DataFrame gốc, nhưng thay vì giá trị lớn nhất của \"Item_Weight\" trong mỗi nhóm. => điền giá trị thiếu trong cột \"Item_Weight\" bằng giá trị lớn nhất của \"Item_Weight\" tương ứng với mỗi nhóm \"Item_Identifier\"\n",
    "\n",
    "4 giá trị null có thể không có giá trị nào được tìm thấy trong mỗi nhóm để điền vào (là những trường hợp mà không có dữ liệu nào khác trong cùng nhóm \"Item_Identifier\" để tính toán giá trị lớn nhất của \"Item_Weight\". Điều này có thể xảy ra nếu tất cả các giá trị \"Item_Weight\" trong các nhóm tương ứng với các \"Item_Identifier\" đó đều là giá trị null hoặc không xác định.)"
   ]
  },
  {
   "cell_type": "markdown",
   "id": "c8ee0cd5",
   "metadata": {},
   "source": [
    "### Gán các giá trị còn thiếu trong outlet size bằng \"Small\""
   ]
  },
  {
   "cell_type": "code",
   "execution_count": 120,
   "id": "85baeaf9",
   "metadata": {},
   "outputs": [],
   "source": [
    "data['Outlet_Size'] = data['Outlet_Size'].fillna(\"Small\")"
   ]
  },
  {
   "cell_type": "code",
   "execution_count": 121,
   "id": "404eb090-75c6-44f1-be63-606c4b874083",
   "metadata": {},
   "outputs": [
    {
     "data": {
      "text/plain": [
       "array(['Medium', 'Small', 'High'], dtype=object)"
      ]
     },
     "execution_count": 121,
     "metadata": {},
     "output_type": "execute_result"
    }
   ],
   "source": [
    "data.Outlet_Size.unique()"
   ]
  },
  {
   "cell_type": "code",
   "execution_count": 122,
   "id": "85df76e1-a94d-4d8b-9896-488f8e4cd197",
   "metadata": {},
   "outputs": [
    {
     "name": "stdout",
     "output_type": "stream",
     "text": [
      "<class 'pandas.core.frame.DataFrame'>\n",
      "RangeIndex: 8523 entries, 0 to 8522\n",
      "Data columns (total 12 columns):\n",
      " #   Column                     Non-Null Count  Dtype  \n",
      "---  ------                     --------------  -----  \n",
      " 0   Item_Identifier            8523 non-null   object \n",
      " 1   Item_Weight                8519 non-null   float64\n",
      " 2   Item_Fat_Content           8523 non-null   object \n",
      " 3   Item_Visibility            8523 non-null   float64\n",
      " 4   Item_Type                  8523 non-null   object \n",
      " 5   Item_MRP                   8523 non-null   float64\n",
      " 6   Outlet_Identifier          8523 non-null   object \n",
      " 7   Outlet_Establishment_Year  8523 non-null   int64  \n",
      " 8   Outlet_Size                8523 non-null   object \n",
      " 9   Outlet_Location_Type       8523 non-null   object \n",
      " 10  Outlet_Type                8523 non-null   object \n",
      " 11  Item_Outlet_Sales          8523 non-null   float64\n",
      "dtypes: float64(4), int64(1), object(7)\n",
      "memory usage: 799.2+ KB\n"
     ]
    }
   ],
   "source": [
    "data.info()"
   ]
  },
  {
   "cell_type": "markdown",
   "id": "5d021554-9770-4fef-9efb-e61972cabf45",
   "metadata": {},
   "source": [
    "### Xóa các dòng vẫn còn thiếu giá trị bằng cách chọn các hàng không có giá trị"
   ]
  },
  {
   "cell_type": "code",
   "execution_count": 123,
   "id": "53aaff7b-6787-4a92-8906-097cf3672dfd",
   "metadata": {},
   "outputs": [],
   "source": [
    "df=data[data['Item_Weight'].notna()]"
   ]
  },
  {
   "cell_type": "code",
   "execution_count": 124,
   "id": "18b9baf7-9cb8-430f-a2eb-5ae6ebecae9b",
   "metadata": {},
   "outputs": [
    {
     "name": "stdout",
     "output_type": "stream",
     "text": [
      "<class 'pandas.core.frame.DataFrame'>\n",
      "Int64Index: 8519 entries, 0 to 8522\n",
      "Data columns (total 12 columns):\n",
      " #   Column                     Non-Null Count  Dtype  \n",
      "---  ------                     --------------  -----  \n",
      " 0   Item_Identifier            8519 non-null   object \n",
      " 1   Item_Weight                8519 non-null   float64\n",
      " 2   Item_Fat_Content           8519 non-null   object \n",
      " 3   Item_Visibility            8519 non-null   float64\n",
      " 4   Item_Type                  8519 non-null   object \n",
      " 5   Item_MRP                   8519 non-null   float64\n",
      " 6   Outlet_Identifier          8519 non-null   object \n",
      " 7   Outlet_Establishment_Year  8519 non-null   int64  \n",
      " 8   Outlet_Size                8519 non-null   object \n",
      " 9   Outlet_Location_Type       8519 non-null   object \n",
      " 10  Outlet_Type                8519 non-null   object \n",
      " 11  Item_Outlet_Sales          8519 non-null   float64\n",
      "dtypes: float64(4), int64(1), object(7)\n",
      "memory usage: 865.2+ KB\n"
     ]
    }
   ],
   "source": [
    "df.info()"
   ]
  },
  {
   "cell_type": "markdown",
   "id": "f79a7692-d0fe-49eb-be8a-f46a5f1b0c81",
   "metadata": {},
   "source": [
    "### Giá trị được tính trong hàm lượng chất béo"
   ]
  },
  {
   "cell_type": "code",
   "execution_count": 125,
   "id": "48f41a8a-6e6c-4e4f-82a6-0cd2fa8dee3e",
   "metadata": {},
   "outputs": [
    {
     "data": {
      "text/plain": [
       "Low Fat    5088\n",
       "Regular    2886\n",
       "LF          316\n",
       "reg         117\n",
       "low fat     112\n",
       "Name: Item_Fat_Content, dtype: int64"
      ]
     },
     "execution_count": 125,
     "metadata": {},
     "output_type": "execute_result"
    }
   ],
   "source": [
    "df.Item_Fat_Content.value_counts()"
   ]
  },
  {
   "cell_type": "markdown",
   "id": "6ccf0d2d-e1bc-4c27-89e6-9998fa6c8ed1",
   "metadata": {},
   "source": [
    "### Thay thế các item thành 2 hình thức tiêu chuẩn"
   ]
  },
  {
   "cell_type": "code",
   "execution_count": 126,
   "id": "b08352a7-bdc2-4210-bb0c-268ef60c6bd5",
   "metadata": {},
   "outputs": [
    {
     "data": {
      "text/plain": [
       "Low Fat    5516\n",
       "Regular    3003\n",
       "Name: Item_Fat_Content, dtype: int64"
      ]
     },
     "execution_count": 126,
     "metadata": {},
     "output_type": "execute_result"
    }
   ],
   "source": [
    "df.replace({'Item_Fat_Content':{'low fat':'Low Fat','LF':'Low Fat','reg':'Regular'}},inplace=True)\n",
    "df.Item_Fat_Content.value_counts()"
   ]
  },
  {
   "cell_type": "code",
   "execution_count": 127,
   "id": "dad2ee46-26b5-4701-b584-3755a6e7802b",
   "metadata": {},
   "outputs": [
    {
     "data": {
      "text/plain": [
       "Fruits and Vegetables    1232\n",
       "Snack Foods              1199\n",
       "Household                 910\n",
       "Frozen Foods              855\n",
       "Dairy                     681\n",
       "Canned                    649\n",
       "Baking Goods              647\n",
       "Health and Hygiene        520\n",
       "Soft Drinks               445\n",
       "Meat                      425\n",
       "Breads                    251\n",
       "Hard Drinks               214\n",
       "Others                    169\n",
       "Starchy Foods             148\n",
       "Breakfast                 110\n",
       "Seafood                    64\n",
       "Name: Item_Type, dtype: int64"
      ]
     },
     "execution_count": 127,
     "metadata": {},
     "output_type": "execute_result"
    }
   ],
   "source": [
    "df.Item_Type.value_counts()"
   ]
  },
  {
   "cell_type": "markdown",
   "id": "8293af11-1ea5-4fd5-bfce-622ed7531cbf",
   "metadata": {},
   "source": [
    "### 5. EDA"
   ]
  },
  {
   "cell_type": "markdown",
   "id": "e04c8035",
   "metadata": {},
   "source": [
    "#### 5.1. Biểu đồ countplot đếm số lượng các biến phân loại\n"
   ]
  },
  {
   "cell_type": "code",
   "execution_count": 128,
   "id": "e4c632df-72e8-4d47-97c9-abb001c9fe5e",
   "metadata": {},
   "outputs": [
    {
     "data": {
      "text/plain": [
       "<AxesSubplot:xlabel='Outlet_Size', ylabel='count'>"
      ]
     },
     "execution_count": 128,
     "metadata": {},
     "output_type": "execute_result"
    },
    {
     "data": {
      "image/png": "[encoded data removed]",
      "text/plain": [
       "<Figure size 1000x1000 with 1 Axes>"
      ]
     },
     "metadata": {},
     "output_type": "display_data"
    }
   ],
   "source": [
    "plt.figure(figsize=(10,10))\n",
    "sns.countplot(x='Outlet_Size',data=df)"
   ]
  },
  {
   "cell_type": "markdown",
   "id": "582f3b78",
   "metadata": {},
   "source": [
    "Đa số các cửa hàng trong tập dữ liệu có kích thước nhỏ: Điều này có thể phản ánh một thị trường mà các cửa hàng nhỏ lẻ chiếm ưu thế, hoặc có thể do chiến lược kinh doanh của công ty tập trung vào việc mở rộng mạng lưới cửa hàng nhỏ.\n",
    "Số lượng cửa hàng trung bình và lớn tương đối ít: Có thể có nhiều yếu tố ảnh hưởng đến điều này, như vị trí địa lý, đối tượng khách hàng, hoặc chi phí vận hành."
   ]
  },
  {
   "cell_type": "code",
   "execution_count": 129,
   "id": "7c57afcc-cadd-47b6-8234-e9add39332f0",
   "metadata": {},
   "outputs": [
    {
     "data": {
      "text/plain": [
       "<AxesSubplot:xlabel='Outlet_Type', ylabel='count'>"
      ]
     },
     "execution_count": 129,
     "metadata": {},
     "output_type": "execute_result"
    },
    {
     "data": {
      "image/png": "[encoded data removed]",
      "text/plain": [
       "<Figure size 1000x1000 with 1 Axes>"
      ]
     },
     "metadata": {},
     "output_type": "display_data"
    }
   ],
   "source": [
    "plt.figure(figsize=(10,10))\n",
    "sns.countplot(x='Outlet_Type',data=df)"
   ]
  },
  {
   "cell_type": "markdown",
   "id": "8c792123",
   "metadata": {},
   "source": [
    "Supermarket Type1 là loại hình cửa hàng phổ biến nhất: Điều này có thể cho thấy rằng công ty tập trung vào phát triển loại hình cửa hàng này.\n",
    "Các loại cửa hàng khác có số lượng tương đối bằng nhau: Điều này cho thấy công ty cũng đa dạng hóa loại hình cửa hàng để phục vụ nhiều đối tượng khách hàng khác nhau"
   ]
  },
  {
   "cell_type": "code",
   "execution_count": 130,
   "id": "abaca9b3-1a00-46dc-aa1b-6793265c0da4",
   "metadata": {},
   "outputs": [
    {
     "data": {
      "text/plain": [
       "<AxesSubplot:xlabel='Outlet_Establishment_Year', ylabel='count'>"
      ]
     },
     "execution_count": 130,
     "metadata": {},
     "output_type": "execute_result"
    },
    {
     "data": {
      "image/png": "[encoded data removed]",
      "text/plain": [
       "<Figure size 1000x1000 with 1 Axes>"
      ]
     },
     "metadata": {},
     "output_type": "display_data"
    }
   ],
   "source": [
    "plt.figure(figsize=(10,10))\n",
    "sns.countplot(x='Outlet_Establishment_Year',data=df)"
   ]
  },
  {
   "cell_type": "markdown",
   "id": "a276bee8",
   "metadata": {},
   "source": [
    "Hầu hết các cửa hàng được mở vào năm 1985 và số lượng ít nhất là vào năm 1998."
   ]
  },
  {
   "cell_type": "markdown",
   "id": "e592672a",
   "metadata": {},
   "source": [
    "#### 5.2. Biểu đồ distplot"
   ]
  },
  {
   "cell_type": "markdown",
   "id": "3f259e8c",
   "metadata": {},
   "source": [
    "là một biểu đồ kết hợp giữa biểu đồ histogram và đường cong mật độ xác suất"
   ]
  },
  {
   "cell_type": "markdown",
   "id": "57b1cb12",
   "metadata": {},
   "source": [
    "Dữ liệu lệch phải: Nhiều biến kinh tế, đặc biệt là các biến liên quan đến giá cả, khối lượng, thường có phân bố lệch phải. Điều này có nghĩa là phần lớn các giá trị tập trung ở phần dưới của khoảng giá trị, trong khi một số ít giá trị rất lớn lại kéo dài phần đuôi phân bố.\n",
    "Logarit giúp làm giảm độ lệch: Việc lấy logarit có tác dụng nén các giá trị lớn và giãn các giá trị nhỏ, giúp làm cho phân bố dữ liệu trở nên đối xứng hơn, gần giống với phân phối chuẩn. Điều này rất có lợi cho việc áp dụng các mô hình thống kê giả định phân phối chuẩn"
   ]
  },
  {
   "cell_type": "markdown",
   "id": "efa50500-560b-4df9-bcaa-dc75c90d1864",
   "metadata": {},
   "source": [
    "##### Biểu đồ phân bố item_weight"
   ]
  },
  {
   "cell_type": "markdown",
   "id": "03d2077e",
   "metadata": {},
   "source": [
    "Cột y trong đồ thị đó có thể được hiểu là mức độ tập trung của dữ liệu tương ứng với giá trị log của \"Item_Weight\". Khi mật độ (Density) cao, có nghĩa rằng có nhiều giá trị dữ liệu tập trung ở vùng đó, và ngược lại khi mật độ thấp."
   ]
  },
  {
   "cell_type": "code",
   "execution_count": 131,
   "id": "3577afb0-dd91-49ca-8944-352ee04eb3ac",
   "metadata": {
    "scrolled": true
   },
   "outputs": [
    {
     "data": {
      "text/plain": [
       "<AxesSubplot:xlabel='Item_Weight', ylabel='Density'>"
      ]
     },
     "execution_count": 131,
     "metadata": {},
     "output_type": "execute_result"
    },
    {
     "data": {
      "image/png": "[encoded data removed]",
      "text/plain": [
       "<Figure size 640x480 with 1 Axes>"
      ]
     },
     "metadata": {},
     "output_type": "display_data"
    }
   ],
   "source": [
    "sns.distplot(np.log(df['Item_Weight']),color='red')"
   ]
  },
  {
   "cell_type": "markdown",
   "id": "d9052499",
   "metadata": {},
   "source": [
    "Trục hoành (x): Trên trục hoành là giá trị của biến Item_Weight sau khi lấy logarit.\n",
    "Trục tung (y): Trục tung biểu diễn mật độ xác suất (density), cho biết tần suất xuất hiện của các giá trị khác nhau.\n",
    "Histogram: Phần màu hồng là histogram, biểu thị số lượng sản phẩm có trọng lượng rơi vào từng khoảng giá trị.\n",
    "Đường cong: Đường cong màu đỏ là đường cong mật độ xác suất (probability density function - PDF), cho thấy hình dạng tổng thể của phân bố dữ liệu."
   ]
  },
  {
   "cell_type": "markdown",
   "id": "be15fa5f",
   "metadata": {},
   "source": [
    "==> Các sản phẩm trong tập dữ liệu có trọng lượng tập trung quanh một giá trị trung bình, và các giá trị khác lệch xa giá trị trung bình này ít hơn."
   ]
  },
  {
   "cell_type": "markdown",
   "id": "3a2836fd-e931-4d4d-8e01-9c614d1ae915",
   "metadata": {},
   "source": [
    "##### Sơ đồ phân bố item_Visibility"
   ]
  },
  {
   "cell_type": "code",
   "execution_count": 132,
   "id": "d87e0cfc-c249-402e-a1db-e08a6386e0a3",
   "metadata": {},
   "outputs": [
    {
     "data": {
      "text/plain": [
       "<AxesSubplot:xlabel='Item_Visibility', ylabel='Density'>"
      ]
     },
     "execution_count": 132,
     "metadata": {},
     "output_type": "execute_result"
    },
    {
     "data": {
      "image/png": "[encoded data removed]",
      "text/plain": [
       "<Figure size 640x480 with 1 Axes>"
      ]
     },
     "metadata": {},
     "output_type": "display_data"
    }
   ],
   "source": [
    "sns.distplot(df['Item_Visibility'],color='red')"
   ]
  },
  {
   "cell_type": "markdown",
   "id": "f34b4d24",
   "metadata": {},
   "source": [
    "Phân bố lệch phải: Đa số các sản phẩm có độ hiển thị thấp (gần 0), và chỉ có một số ít sản phẩm có độ hiển thị cao. Điều này cho thấy rằng phần lớn các sản phẩm không được trưng bày một cách nổi bật trên kệ hàng"
   ]
  },
  {
   "cell_type": "markdown",
   "id": "3dbf6323",
   "metadata": {},
   "source": [
    "Giá trị trung bình: Giá trị trung bình của độ hiển thị sản phẩm nằm ở phía bên trái của biểu đồ, gần với 0. Điều này cũng khẳng định lại rằng phần lớn các sản phẩm có độ hiển thị thấp"
   ]
  },
  {
   "cell_type": "markdown",
   "id": "c04b8e8c",
   "metadata": {},
   "source": [
    "Phân bố không đồng đều: Độ hiển thị của các sản phẩm không được phân bố đều mà tập trung chủ yếu ở mức thấp"
   ]
  },
  {
   "cell_type": "markdown",
   "id": "c4a7ff76-43e1-4adb-a9d5-180b6e2e4300",
   "metadata": {},
   "source": [
    "##### Sơ đồ phân bố Item_MRP"
   ]
  },
  {
   "cell_type": "code",
   "execution_count": 133,
   "id": "dfde035f-bdd9-4989-9823-5ca20fd48022",
   "metadata": {},
   "outputs": [
    {
     "data": {
      "text/plain": [
       "<AxesSubplot:xlabel='Item_MRP', ylabel='Density'>"
      ]
     },
     "execution_count": 133,
     "metadata": {},
     "output_type": "execute_result"
    },
    {
     "data": {
      "image/png": "[encoded data removed]",
      "text/plain": [
       "<Figure size 640x480 with 1 Axes>"
      ]
     },
     "metadata": {},
     "output_type": "display_data"
    }
   ],
   "source": [
    "sns.distplot(np.log(df['Item_MRP']),color='blue')"
   ]
  },
  {
   "cell_type": "markdown",
   "id": "5b57eaf0",
   "metadata": {},
   "source": [
    "Phần lớn các sản phẩm trong tập dữ liệu có giá bán tập trung quanh một giá trị trung bình, và các giá trị khác lệch xa giá trị trung bình này ít hơn."
   ]
  },
  {
   "cell_type": "markdown",
   "id": "b29c0a4d",
   "metadata": {},
   "source": [
    "Giá bán của các sản phẩm trong tập dữ liệu có phân bố tương đối ổn định, tập trung quanh một giá trị trung bình."
   ]
  },
  {
   "cell_type": "markdown",
   "id": "f98f911d-5639-4a4f-8b93-fbe0b2d81456",
   "metadata": {},
   "source": [
    "#### 5.3. Sơ đồ lmplot điểm phân tán"
   ]
  },
  {
   "cell_type": "markdown",
   "id": "c9666ca7",
   "metadata": {},
   "source": [
    "##### Điểm phân tán của Item_MRP"
   ]
  },
  {
   "cell_type": "code",
   "execution_count": 134,
   "id": "8d470cdb-078c-473b-b98b-d3ba0aaf53bb",
   "metadata": {},
   "outputs": [
    {
     "data": {
      "text/plain": [
       "<seaborn.axisgrid.FacetGrid at 0x1874438b788>"
      ]
     },
     "execution_count": 134,
     "metadata": {},
     "output_type": "execute_result"
    },
    {
     "data": {
      "image/png": "[encoded data removed]",
      "text/plain": [
       "<Figure size 500x500 with 1 Axes>"
      ]
     },
     "metadata": {},
     "output_type": "display_data"
    }
   ],
   "source": [
    "sns.lmplot(data=df, x=\"Item_MRP\",y=\"Item_Outlet_Sales\")"
   ]
  },
  {
   "cell_type": "markdown",
   "id": "60f6be27",
   "metadata": {},
   "source": [
    "Mỗi điểm: Đại diện cho một sản phẩm cụ thể, với vị trí trên trục hoành tương ứng với giá bán và vị trí trên trục tung tương ứng với doanh số."
   ]
  },
  {
   "cell_type": "markdown",
   "id": "190f2ca2",
   "metadata": {},
   "source": [
    "Giá sản phẩm tăng, doanh số bán hàng cũng tăng."
   ]
  },
  {
   "cell_type": "markdown",
   "id": "de7b71e8",
   "metadata": {},
   "source": [
    "Đường hồi quy trên biểu đồ thể hiện xu hướng tăng dần của doanh số bán hàng theo giá sản phẩm. Điều này có thể được giải thích bằng việc mỗi điểm trên biểu đồ đại diện cho một sản phẩm cụ thể, và đường hồi quy cung cấp một ước lượng về mối quan hệ trung bình giữa giá và doanh số bán hàng."
   ]
  },
  {
   "cell_type": "markdown",
   "id": "137c71b2",
   "metadata": {},
   "source": [
    "##### Điểm phân tán của Item_Visibility"
   ]
  },
  {
   "cell_type": "code",
   "execution_count": 135,
   "id": "09ff0715-18dc-4b4a-8b58-a50d91e45a93",
   "metadata": {},
   "outputs": [
    {
     "data": {
      "text/plain": [
       "<seaborn.axisgrid.FacetGrid at 0x18744411bc8>"
      ]
     },
     "execution_count": 135,
     "metadata": {},
     "output_type": "execute_result"
    },
    {
     "data": {
      "image/png": "[encoded data removed]",
      "text/plain": [
       "<Figure size 500x500 with 1 Axes>"
      ]
     },
     "metadata": {},
     "output_type": "display_data"
    }
   ],
   "source": [
    "sns.lmplot(data=df,x=\"Item_Visibility\",y=\"Item_Outlet_Sales\")"
   ]
  },
  {
   "cell_type": "markdown",
   "id": "ed54d246",
   "metadata": {},
   "source": [
    "Giá trị của 'Item_Visibility' tăng lên, giá trị của 'Item_Outlet_Sales' thường có xu hướng giảm đi"
   ]
  },
  {
   "cell_type": "markdown",
   "id": "be1f4deb",
   "metadata": {},
   "source": [
    "hi độ hiển thị của sản phẩm tăng lên, doanh số của sản phẩm đó có xu hướng giảm đi. Điều này có vẻ trái ngược với trực giác ban đầu, bởi vì ta thường nghĩ rằng sản phẩm càng được trưng bày nổi bật thì càng bán chạy."
   ]
  },
  {
   "cell_type": "markdown",
   "id": "b0a7a316",
   "metadata": {},
   "source": [
    "#### 5.4. Biểu đổ FaceGrid cho Item_Type"
   ]
  },
  {
   "cell_type": "code",
   "execution_count": 136,
   "id": "a221e90a-17ec-4eab-81c0-236e8adaff2b",
   "metadata": {
    "scrolled": true
   },
   "outputs": [
    {
     "data": {
      "image/png": "[encoded data removed]",
      "text/plain": [
       "<Figure size 1211.11x1200 with 16 Axes>"
      ]
     },
     "metadata": {},
     "output_type": "display_data"
    }
   ],
   "source": [
    "sns.FacetGrid(df, col='Item_Type',col_wrap=4)\\\n",
    ".map(plt.hist,'Item_Outlet_Sales')\\\n",
    ".add_legend();\n"
   ]
  },
  {
   "cell_type": "markdown",
   "id": "6e3b5c2b-23a0-4620-b84a-6aaa028432a8",
   "metadata": {},
   "source": [
    "### 6. Sự tương quan giữa các biến"
   ]
  },
  {
   "cell_type": "code",
   "execution_count": 137,
   "id": "568e30d7-cb3b-4053-9abe-b376b64ca448",
   "metadata": {},
   "outputs": [],
   "source": [
    "#pip install --upgrade seaborn matplotlib"
   ]
  },
  {
   "cell_type": "markdown",
   "id": "ea55c5bf-5fbe-4336-8c9e-ac79a2a3bc6c",
   "metadata": {},
   "source": [
    "#### 6.1. Tương quan tuyến tính"
   ]
  },
  {
   "cell_type": "markdown",
   "id": "0011e7dc",
   "metadata": {},
   "source": [
    "Item_Weight: Trọng lượng sản phẩm có thể liên quan đến giá trị sản phẩm và doanh số bán hàng. Tương quan với trọng lượng sản phẩm có thể cung cấp thông tin về cách trọng lượng ảnh hưởng đến doanh số bán hàng. Item_Visibility: Tầm nhìn sản phẩm trong cửa hàng có thể ảnh hưởng đến việc sản phẩm được mua nhiều hay ít. Tương quan với tầm nhìn sản phẩm có thể giúp hiểu mức độ quan trọng của việc sản phẩm được hiển thị. Item_MRP: Giá bán lẻ tối đa của sản phẩm có thể đóng vai trò quan trọng trong doanh số bán hàng. Tương quan với giá sản phẩm có thể cung cấp thông tin về mối quan hệ giữa giá cả và doanh số bán hàng. Outlet_Establishment_Year: Năm thành lập cửa hàng có thể ảnh hưởng đến sự phát triển và uy tín của cửa hàng, có thể ảnh hưởng đến doanh số bán hàng. Tương quan với năm thành lập cửa hàng có thể giúp hiểu về sự phát triển của cửa hàng và ảnh hưởng đến doanh số bán hàng. Item_Outlet_Sales: Đây là biến mục tiêu, doanh số bán hàng, là chỉ số quan trọng để đánh giá hiệu suất kinh doanh. Tương quan với biến này có thể giúp xác định mối quan hệ giữa các yếu tố khác và doanh số bán hàng."
   ]
  },
  {
   "cell_type": "code",
   "execution_count": 138,
   "id": "c1da85e3-ea9a-461e-9c3e-1dd31dda67f1",
   "metadata": {},
   "outputs": [
    {
     "data": {
      "text/plain": [
       "<AxesSubplot:>"
      ]
     },
     "execution_count": 138,
     "metadata": {},
     "output_type": "execute_result"
    },
    {
     "data": {
      "image/png": "[encoded data removed]",
      "text/plain": [
       "<Figure size 1000x1000 with 2 Axes>"
      ]
     },
     "metadata": {},
     "output_type": "display_data"
    }
   ],
   "source": [
    "corr = df.corr()\n",
    "plt.figure(figsize=(10,10))\n",
    "sns.heatmap(corr,cbar=True,square=True,annot=True,cmap='BrBG_r')"
   ]
  },
  {
   "cell_type": "markdown",
   "id": "4db91bb2-1bb4-4c0a-b1e5-4a48c00cd8ac",
   "metadata": {},
   "source": [
    "##### Nhận xét sự tương quan tuyến tính"
   ]
  },
  {
   "cell_type": "markdown",
   "id": "4ed549ec-59a7-4854-95f1-03b7cfb18f27",
   "metadata": {},
   "source": [
    "Sự tương quan dương vừa phải giữa Item_Weight và Item_MRP, với hệ số tương quan khoảng 0.2 => khi trọng lượng mặt hàng tăng, giá bán của mặt hàng cũng tăng một cách vừa phải."
   ]
  },
  {
   "cell_type": "markdown",
   "id": "a7eb8e37-582d-485c-85cd-174fc764867c",
   "metadata": {},
   "source": [
    "Sự tương quan âm giữa Item_Visibility và Item_Establishment_Year, với hệ số tương quan khoảng -0.1. => khi năm thành lập của cửa hàng càng lớn, thì sự xuất hiện của một số mặt hàng trong cửa hàng bị hạn chế"
   ]
  },
  {
   "cell_type": "markdown",
   "id": "7b1a1499-8641-4607-9498-6d75668ed239",
   "metadata": {},
   "source": [
    "Sự tương quan âm giữa Item_Establishment_Year và Item_Outlet_Sales, với hệ số tương quan khoảng -0.05. Điều này cho thấy khi năm thành lập của cửa hàng lớn, doanh số bán hàng thấp."
   ]
  },
  {
   "cell_type": "markdown",
   "id": "86349974-04a8-4984-8508-609d6ba9176a",
   "metadata": {},
   "source": [
    "Sự tương quan dương giữa Item_Outlet_Sales và Item_MRP, với hệ số tương quan cao khoảng 0.57. Điều này cho thấy khi giá bán của mặt hàng tăng, doanh số bán hàng tăng."
   ]
  },
  {
   "cell_type": "markdown",
   "id": "e6cf7c28",
   "metadata": {},
   "source": [
    "====>Item_Weight và các biến khác: Mối tương quan giữa trọng lượng sản phẩm và các biến khác khá yếu, gần như không đáng kể. Điều này cho thấy trọng lượng của sản phẩm không ảnh hưởng đáng kể đến doanh số hoặc các yếu tố khác trong bộ dữ liệu.\n",
    "Item_Visibility và Item_Outlet_Sales: Có mối tương quan âm yếu (-0.13). Điều này có nghĩa là khi độ hiển thị của sản phẩm tăng lên, doanh số của sản phẩm đó có xu hướng giảm đi. Điều này có thể do nhiều nguyên nhân, chẳng hạn như các sản phẩm được trưng bày ở vị trí dễ thấy thường có giá cao hơn, hoặc có thể có những yếu tố khác ảnh hưởng đến doanh số mà chưa được biểu đồ này thể hiện.\n",
    "Outlet_Establishment_Year và các biến khác: Mối tương quan giữa năm thành lập cửa hàng và các biến khác cũng khá yếu. Điều này cho thấy tuổi của cửa hàng không có ảnh hưởng đáng kể đến doanh số hoặc các yếu tố khác."
   ]
  },
  {
   "cell_type": "markdown",
   "id": "8acc2c0d-0a8a-48c9-9e73-f39703b507ac",
   "metadata": {},
   "source": [
    "#### 6.2. Tương quan phân loại"
   ]
  },
  {
   "cell_type": "markdown",
   "id": "93f7b37b",
   "metadata": {},
   "source": [
    "Đo lường mối liên hệ giữa hai hoặc nhiều biến phân loại (biến có giá trị là các danh mục)"
   ]
  },
  {
   "cell_type": "markdown",
   "id": "f06ab985-0c5d-42c7-9da4-1719d7f1aecb",
   "metadata": {},
   "source": [
    "Tạo ra một bảng tần số (crosstab) từ hai cột trong DataFrame có tên là 'Outlet_Size' và 'Outlet_Location_Type'. Bảng tần số này sẽ cho biết số lượng các giá trị xuất hiện cho mỗi cặp giá trị từ hai cột này."
   ]
  },
  {
   "cell_type": "markdown",
   "id": "deae34d2",
   "metadata": {},
   "source": [
    "Outlet Size (Kích thước cửa hàng): Kích thước cửa hàng có thể ảnh hưởng đến các hoạt động kinh doanh, cách quản lý cửa hàng và doanh số bán hàng. Một cửa hàng lớn có thể có chiến lược kinh doanh khác biệt so với một cửa hàng nhỏ về mặt trưng bày sản phẩm, dịch vụ khách hàng và tiếp cận thị trường. Outlet Location Type (Loại vị trí cửa hàng): Vị trí của cửa hàng cũng đóng vai trò quan trọng trong việc xác định lượng khách hàng tiềm năng, cạnh tranh với các cửa hàng khác, và cách quản lý cửa hàng. Ví dụ, một cửa hàng ở trung tâm thành phố có thể có mô hình kinh doanh khác so với một cửa hàng ở ngoại ô."
   ]
  },
  {
   "cell_type": "markdown",
   "id": "af984f38",
   "metadata": {},
   "source": [
    "Hiểu mối quan hệ giữa kích thước cửa hàng và vị trí cửa hàng: Bảng crosstab có thể cho thấy phân phối của kích thước cửa hàng tại các loại vị trí khác nhau. Điều này giúp chúng ta xác định xem có sự liên kết nào giữa kích thước cửa hàng và vị trí cửa hàng không. Phân tích chi tiết về chiến lược phân phối: Thông qua bảng crosstab, chúng ta có thể đánh giá cách mà kích thước cửa hàng và vị trí cửa hàng được phân bố theo nhau, giúp đưa ra những nhận định về chiến lược phân phối và tiếp thị của cửa hàng."
   ]
  },
  {
   "cell_type": "code",
   "execution_count": 139,
   "id": "99e04065-1898-430b-9e41-38f29fb10eaf",
   "metadata": {},
   "outputs": [
    {
     "name": "stdout",
     "output_type": "stream",
     "text": [
      "Outlet_Location_Type  Tier 1  Tier 2  Tier 3\n",
      "Outlet_Size                                 \n",
      "High                       0       0     932\n",
      "Medium                   930       0    1860\n",
      "Small                   1457    2785     555\n"
     ]
    }
   ],
   "source": [
    "cross_tab=pd.crosstab(index=df['Outlet_Size'],columns=df['Outlet_Location_Type'])\n",
    "print(cross_tab)"
   ]
  },
  {
   "cell_type": "code",
   "execution_count": 140,
   "id": "4fad8788-5b8a-41e2-a431-9362c1b648c8",
   "metadata": {},
   "outputs": [
    {
     "data": {
      "text/html": [
       "<div>\n",
       "<style scoped>\n",
       "    .dataframe tbody tr th:only-of-type {\n",
       "        vertical-align: middle;\n",
       "    }\n",
       "\n",
       "    .dataframe tbody tr th {\n",
       "        vertical-align: top;\n",
       "    }\n",
       "\n",
       "    .dataframe thead th {\n",
       "        text-align: right;\n",
       "    }\n",
       "</style>\n",
       "<table border=\"1\" class=\"dataframe\">\n",
       "  <thead>\n",
       "    <tr style=\"text-align: right;\">\n",
       "      <th>Outlet_Location_Type</th>\n",
       "      <th>Tier 1</th>\n",
       "      <th>Tier 2</th>\n",
       "      <th>Tier 3</th>\n",
       "    </tr>\n",
       "    <tr>\n",
       "      <th>Outlet_Size</th>\n",
       "      <th></th>\n",
       "      <th></th>\n",
       "      <th></th>\n",
       "    </tr>\n",
       "  </thead>\n",
       "  <tbody>\n",
       "    <tr>\n",
       "      <th>High</th>\n",
       "      <td>0</td>\n",
       "      <td>0</td>\n",
       "      <td>932</td>\n",
       "    </tr>\n",
       "    <tr>\n",
       "      <th>Medium</th>\n",
       "      <td>930</td>\n",
       "      <td>0</td>\n",
       "      <td>1860</td>\n",
       "    </tr>\n",
       "    <tr>\n",
       "      <th>Small</th>\n",
       "      <td>1457</td>\n",
       "      <td>2785</td>\n",
       "      <td>555</td>\n",
       "    </tr>\n",
       "  </tbody>\n",
       "</table>\n",
       "</div>"
      ],
      "text/plain": [
       "Outlet_Location_Type  Tier 1  Tier 2  Tier 3\n",
       "Outlet_Size                                 \n",
       "High                       0       0     932\n",
       "Medium                   930       0    1860\n",
       "Small                   1457    2785     555"
      ]
     },
     "execution_count": 140,
     "metadata": {},
     "output_type": "execute_result"
    }
   ],
   "source": [
    "cross_tab"
   ]
  },
  {
   "cell_type": "markdown",
   "id": "14f600d6-a055-488a-a75d-a98b82a0e5af",
   "metadata": {},
   "source": [
    "##### Kiểm tra bình phương Chi"
   ]
  },
  {
   "cell_type": "markdown",
   "id": "3d7f4ec0-512b-47f4-80b2-f13ff74eec14",
   "metadata": {},
   "source": [
    "Xác định xem các biến phân loại có liên quan hay không."
   ]
  },
  {
   "cell_type": "markdown",
   "id": "44302ff3",
   "metadata": {},
   "source": [
    "Kiểm tra tương quan giữa các biến trong bảng tần số"
   ]
  },
  {
   "cell_type": "code",
   "execution_count": 141,
   "id": "31b5d78f-020b-40ea-909b-89ae04bae3dc",
   "metadata": {},
   "outputs": [],
   "source": [
    "#from scipy.stats import chi2_contingency"
   ]
  },
  {
   "cell_type": "code",
   "execution_count": 142,
   "id": "78fe115e-f155-406a-a474-e5279029c044",
   "metadata": {},
   "outputs": [],
   "source": [
    "result = chi2_contingency(cross_tab)"
   ]
  },
  {
   "cell_type": "code",
   "execution_count": 143,
   "id": "a21c1ed7",
   "metadata": {},
   "outputs": [
    {
     "name": "stdout",
     "output_type": "stream",
     "text": [
      "The p value is 0.0\n"
     ]
    }
   ],
   "source": [
    "print(\"The p value is\",result[1])"
   ]
  },
  {
   "cell_type": "markdown",
   "id": "73b97124",
   "metadata": {},
   "source": [
    "Giá trị thống kê (statistic): 4804.376637943735\n"
   ]
  },
  {
   "cell_type": "markdown",
   "id": "c198d4b2",
   "metadata": {},
   "source": [
    "Giá trị p (p-value): 0.0\n"
   ]
  },
  {
   "cell_type": "markdown",
   "id": "08fe0d05",
   "metadata": {},
   "source": [
    "Độ tự do (degrees of freedom): 4\n"
   ]
  },
  {
   "cell_type": "markdown",
   "id": "1390fcd3",
   "metadata": {},
   "source": [
    "Dữ liệu kỳ vọng (expected frequencies): Mảng các giá trị dự kiến"
   ]
  },
  {
   "cell_type": "markdown",
   "id": "ed9c1fd9",
   "metadata": {},
   "source": [
    "=====>Với giá trị p rất thấp như 0.0, chúng ta bác bỏ giả thuyết không có mối quan hệ"
   ]
  },
  {
   "cell_type": "markdown",
   "id": "89783799-90d5-4310-90e3-11d1a20ac4f9",
   "metadata": {},
   "source": [
    "statistic: Giá trị chi-square tính toán từ bảng tần số. Trong trường hợp này, giá trị chi-square là 4804.376637943735.\n",
    "pvalue: Giá trị p-value tính toán từ kiểm định chi-square. P-value là xác suất để nhận được kết quả quan sát hoặc kết quả tương tự xảy ra trong trường hợp giả thuyết không có tương quan giữa các biến. Trong trường hợp này, giá trị p-value là 0.0, tức là rất nhỏ (gần bằng 0).\n",
    "dof: Bậc tự do (degrees of freedom) của kiểm định chi-square. Trong trường hợp này, bậc tự do là 4. Bậc tự do được tính bằng (Số hàng - 1) x (Số cột - 1).\n",
    "expected_freq: Ma trận tần số dự kiến tính toán từ bảng tần số. Nó chứa các giá trị dự kiến cho mỗi ô trong bảng tần số nếu không có tương quan giữa các biến. Trong trường hợp này, ma trận tần số dự kiến có kích thước 3x3."
   ]
  },
  {
   "cell_type": "markdown",
   "id": "7659ed4f-d035-4810-ac35-a08bf1a000e5",
   "metadata": {},
   "source": [
    "=> tương quan đáng kể giữa các biến 'Outlet_Size' và 'Outlet_Location_Type' dựa trên giá trị p-value rất nhỏ."
   ]
  },
  {
   "cell_type": "markdown",
   "id": "54d37fb8-30d5-496e-a9fc-96c9eca7e5e5",
   "metadata": {},
   "source": [
    "##### Kiểm định Cramer's V"
   ]
  },
  {
   "cell_type": "markdown",
   "id": "b2ec6011-fe6a-4272-8230-5a75b579bee9",
   "metadata": {},
   "source": [
    "Định nghĩa một hàm cramers_v(var1, var2) để tính toán hệ số Cramer's V, một phép đo tương quan giữa hai biến phân loại. Sau đó, nó sử dụng LabelEncoder từ thư viện preprocessing để mã hóa các biến 'Outlet_Type', 'Outlet_Size', và 'Outlet_Location_Type' trong DataFrame df. Kết quả được lưu trong DataFrame data_encoded."
   ]
  },
  {
   "cell_type": "code",
   "execution_count": 144,
   "id": "b96d9290-c925-4592-bf8a-b5fcd9566321",
   "metadata": {},
   "outputs": [],
   "source": [
    "def cramers_v(var1,var2):\n",
    "  cross_tab=np.array(pd.crosstab(var1,var2,rownames=None,colnames=None))\n",
    "  stat=chi2_contingency(cross_tab)[0]\n",
    "  obs=np.sum(cross_tab)\n",
    "  var3=min(cross_tab.shape)-1\n",
    "  return (stat/(obs*var3))"
   ]
  },
  {
   "cell_type": "markdown",
   "id": "a1ca3e23",
   "metadata": {},
   "source": [
    "pd.crosstab(var1, var2) sẽ tạo một bảng tần suất chéo (contingency table) giữa hai biến phân loại var1 và var2. np.array() sẽ chuyển bảng tần suất chéo này thành một mảng numpy."
   ]
  },
  {
   "cell_type": "markdown",
   "id": "5fbf29f8",
   "metadata": {},
   "source": [
    "np.sum(cross_tab) tính tổng số lượng mẫu trong bảng tần suất chéo, cần để tính toán chỉ số Cramer's V."
   ]
  },
  {
   "cell_type": "markdown",
   "id": "63fec9d4",
   "metadata": {},
   "source": [
    "cross_tab.shape trả về kích thước của mảng cross_tab, tức là số hàng và số cột. min(cross_tab.shape) lấy giá trị nhỏ nhất trong số hàng và số cột. -1 để trừ đi 1."
   ]
  },
  {
   "cell_type": "markdown",
   "id": "2626eb6e",
   "metadata": {},
   "source": [
    "Chia giá trị thống kê (stat) cho tích của tổng số lượng mẫu (obs) và số cột hoặc số hàng nhỏ nhất trừ 1 (var3). Kết quả trả về là chỉ số Cramer's V, đo lường mức độ tương quan giữa hai biến phân loại var1 và var2."
   ]
  },
  {
   "cell_type": "code",
   "execution_count": 145,
   "id": "6c928c8d-d802-478c-9b91-62110f12fabc",
   "metadata": {},
   "outputs": [],
   "source": [
    "label=preprocessing.LabelEncoder()\n",
    "data_encoded=pd.DataFrame()"
   ]
  },
  {
   "cell_type": "code",
   "execution_count": 146,
   "id": "dd4b81ff-1155-44ac-9760-0d25de4bd094",
   "metadata": {},
   "outputs": [],
   "source": [
    "for i in df[['Outlet_Type','Outlet_Size','Outlet_Location_Type']].columns:\n",
    "  data_encoded[i]=label.fit_transform(data[i])"
   ]
  },
  {
   "cell_type": "code",
   "execution_count": 147,
   "id": "17d32556-22e2-48f4-8c59-84f0286e2931",
   "metadata": {},
   "outputs": [
    {
     "data": {
      "text/html": [
       "<div>\n",
       "<style scoped>\n",
       "    .dataframe tbody tr th:only-of-type {\n",
       "        vertical-align: middle;\n",
       "    }\n",
       "\n",
       "    .dataframe tbody tr th {\n",
       "        vertical-align: top;\n",
       "    }\n",
       "\n",
       "    .dataframe thead th {\n",
       "        text-align: right;\n",
       "    }\n",
       "</style>\n",
       "<table border=\"1\" class=\"dataframe\">\n",
       "  <thead>\n",
       "    <tr style=\"text-align: right;\">\n",
       "      <th></th>\n",
       "      <th>Outlet_Type</th>\n",
       "      <th>Outlet_Size</th>\n",
       "      <th>Outlet_Location_Type</th>\n",
       "    </tr>\n",
       "  </thead>\n",
       "  <tbody>\n",
       "    <tr>\n",
       "      <th>0</th>\n",
       "      <td>1</td>\n",
       "      <td>1</td>\n",
       "      <td>0</td>\n",
       "    </tr>\n",
       "    <tr>\n",
       "      <th>1</th>\n",
       "      <td>2</td>\n",
       "      <td>1</td>\n",
       "      <td>2</td>\n",
       "    </tr>\n",
       "    <tr>\n",
       "      <th>2</th>\n",
       "      <td>1</td>\n",
       "      <td>1</td>\n",
       "      <td>0</td>\n",
       "    </tr>\n",
       "    <tr>\n",
       "      <th>3</th>\n",
       "      <td>0</td>\n",
       "      <td>2</td>\n",
       "      <td>2</td>\n",
       "    </tr>\n",
       "    <tr>\n",
       "      <th>4</th>\n",
       "      <td>1</td>\n",
       "      <td>0</td>\n",
       "      <td>2</td>\n",
       "    </tr>\n",
       "    <tr>\n",
       "      <th>...</th>\n",
       "      <td>...</td>\n",
       "      <td>...</td>\n",
       "      <td>...</td>\n",
       "    </tr>\n",
       "    <tr>\n",
       "      <th>8518</th>\n",
       "      <td>1</td>\n",
       "      <td>0</td>\n",
       "      <td>2</td>\n",
       "    </tr>\n",
       "    <tr>\n",
       "      <th>8519</th>\n",
       "      <td>1</td>\n",
       "      <td>2</td>\n",
       "      <td>1</td>\n",
       "    </tr>\n",
       "    <tr>\n",
       "      <th>8520</th>\n",
       "      <td>1</td>\n",
       "      <td>2</td>\n",
       "      <td>1</td>\n",
       "    </tr>\n",
       "    <tr>\n",
       "      <th>8521</th>\n",
       "      <td>2</td>\n",
       "      <td>1</td>\n",
       "      <td>2</td>\n",
       "    </tr>\n",
       "    <tr>\n",
       "      <th>8522</th>\n",
       "      <td>1</td>\n",
       "      <td>2</td>\n",
       "      <td>0</td>\n",
       "    </tr>\n",
       "  </tbody>\n",
       "</table>\n",
       "<p>8523 rows × 3 columns</p>\n",
       "</div>"
      ],
      "text/plain": [
       "      Outlet_Type  Outlet_Size  Outlet_Location_Type\n",
       "0               1            1                     0\n",
       "1               2            1                     2\n",
       "2               1            1                     0\n",
       "3               0            2                     2\n",
       "4               1            0                     2\n",
       "...           ...          ...                   ...\n",
       "8518            1            0                     2\n",
       "8519            1            2                     1\n",
       "8520            1            2                     1\n",
       "8521            2            1                     2\n",
       "8522            1            2                     0\n",
       "\n",
       "[8523 rows x 3 columns]"
      ]
     },
     "execution_count": 147,
     "metadata": {},
     "output_type": "execute_result"
    }
   ],
   "source": [
    "data_encoded"
   ]
  },
  {
   "cell_type": "markdown",
   "id": "71da6f8b-7b23-4ba7-9d6f-551a8420c5c6",
   "metadata": {},
   "source": [
    "Khởi tạo một danh sách rỗng var4 để lưu trữ các giá trị Cramer's V tính toán.\n",
    "\n",
    "Bắt đầu vòng lặp đầu tiên với biến var1 trong data_encoded\n",
    ".\n",
    "Trong mỗi vòng lặp đầu tiên, khởi tạo một danh sách rỗng col để lưu trữ các giá trị Cramer's V tính toán cho cặp biến var1 và var\n",
    "2.\n",
    "Bắt đầu vòng lặp thứ hai với biến var2 trong data_encoded.\n",
    "Trong mỗi vòng lặp thứ hai, gọi hàm cramers_v() để tính toán giá trị Cramer's V giữa biến var1 và var2 trong data_encoded. Giá trị này được lưu vào danh sách col.\n",
    "Sau khi lặp qua tất cả các cặp biến trong vòng lặp thứ hai, danh sách col chứa các giá trị Cramer's V tương ứng với biến var1 và tất cả các biến var2 trong data_encoded.\n",
    "Danh sách col được thêm vào danh sách chính var4, và quá trình này lặp lại cho tất cả các biến var1 trong data_encoded.\n",
    "Cuối cùng, danh sách var4 được chuyển đổi thành một mảng NumPy và được sử dụng để tạo DataFrame result_cv. Các cột của DataFrame result_cv sẽ có tên là các cột ban đầu từ data_encoded, và chỉ mục của DataFrame cũng sẽ là các cột ban đầu từ data_encoded."
   ]
  },
  {
   "cell_type": "code",
   "execution_count": 148,
   "id": "e854da6f-c8fb-44ad-96c4-6008446e6c11",
   "metadata": {},
   "outputs": [],
   "source": [
    "var4=[]\n",
    "\n",
    "for var1 in data_encoded:\n",
    "  col=[]\n",
    "  for var2 in data_encoded:\n",
    "    cramers=cramers_v(data_encoded[var1],data_encoded[var2])\n",
    "    col.append(round(cramers,2))\n",
    "  var4.append(col)\n",
    "\n",
    "cramer_results=np.array(var4)\n",
    "\n",
    "result_cv=pd.DataFrame(cramer_results,columns=data_encoded.columns,index=data_encoded.columns)"
   ]
  },
  {
   "cell_type": "code",
   "execution_count": 149,
   "id": "15b492a8-c7a7-436b-aa52-fba38f716b6f",
   "metadata": {},
   "outputs": [
    {
     "data": {
      "text/html": [
       "<div>\n",
       "<style scoped>\n",
       "    .dataframe tbody tr th:only-of-type {\n",
       "        vertical-align: middle;\n",
       "    }\n",
       "\n",
       "    .dataframe tbody tr th {\n",
       "        vertical-align: top;\n",
       "    }\n",
       "\n",
       "    .dataframe thead th {\n",
       "        text-align: right;\n",
       "    }\n",
       "</style>\n",
       "<table border=\"1\" class=\"dataframe\">\n",
       "  <thead>\n",
       "    <tr style=\"text-align: right;\">\n",
       "      <th></th>\n",
       "      <th>Outlet_Type</th>\n",
       "      <th>Outlet_Size</th>\n",
       "      <th>Outlet_Location_Type</th>\n",
       "    </tr>\n",
       "  </thead>\n",
       "  <tbody>\n",
       "    <tr>\n",
       "      <th>Outlet_Type</th>\n",
       "      <td>1.00</td>\n",
       "      <td>0.32</td>\n",
       "      <td>0.28</td>\n",
       "    </tr>\n",
       "    <tr>\n",
       "      <th>Outlet_Size</th>\n",
       "      <td>0.32</td>\n",
       "      <td>1.00</td>\n",
       "      <td>0.28</td>\n",
       "    </tr>\n",
       "    <tr>\n",
       "      <th>Outlet_Location_Type</th>\n",
       "      <td>0.28</td>\n",
       "      <td>0.28</td>\n",
       "      <td>1.00</td>\n",
       "    </tr>\n",
       "  </tbody>\n",
       "</table>\n",
       "</div>"
      ],
      "text/plain": [
       "                      Outlet_Type  Outlet_Size  Outlet_Location_Type\n",
       "Outlet_Type                  1.00         0.32                  0.28\n",
       "Outlet_Size                  0.32         1.00                  0.28\n",
       "Outlet_Location_Type         0.28         0.28                  1.00"
      ]
     },
     "execution_count": 149,
     "metadata": {},
     "output_type": "execute_result"
    }
   ],
   "source": [
    "result_cv"
   ]
  },
  {
   "cell_type": "markdown",
   "id": "9013b5f6-07a9-4211-924f-f63f6b7eed8d",
   "metadata": {},
   "source": [
    "Giá trị Cramer's V cho cặp biến 'Outlet Type' và 'Outlet Size' là 0.32, cho thấy có một mức độ tương quan trung bình giữa hai biến này.\n",
    "Giá trị Cramer's V cho cặp biến 'Outlet Type' và 'Outlet Location Type' cũng là 0.28, chỉ ra một mức độ tương quan trung bình giữa hai biến này.\n",
    "Cuối cùng, giá trị Cramer's V cho cặp biến 'Outlet Size' và 'Outlet Location Type' cũng là 0.28, cho thấy một mức độ tương quan trung bình giữa hai biến này."
   ]
  },
  {
   "cell_type": "markdown",
   "id": "feaba96e-265f-4061-a5aa-797447d3cff5",
   "metadata": {},
   "source": [
    "=> Các giá trị Cramer's V cho tất cả các cặp biến đều là trung bình, chỉ ra một mức độ tương quan tương đối giữa các biến 'Outlet Type', 'Outlet Size' và 'Outlet Location Type'. Tuy nhiên, giá trị Cramer's V không cao cho thấy một mức độ tương quan mạnh giữa các biến."
   ]
  },
  {
   "cell_type": "markdown",
   "id": "d407ac5e-0e7e-49b8-a6fa-92950c0e2bfc",
   "metadata": {},
   "source": [
    "##### Phân tích phương sai 1 chiều (ANOVA)"
   ]
  },
  {
   "cell_type": "markdown",
   "id": "560e9de1",
   "metadata": {},
   "source": [
    "Kiểm định Chi-Square: Dùng để kiểm tra sự phụ thuộc giữa hai biến định tính (categorical).\n",
    "Cramer's V: Dùng để đo lường sức mạnh của mối liên kết giữa hai biến định tính.\n",
    "ANOVA: Dùng để so sánh trung bình của ba nhóm trở lên của một biến định lượng."
   ]
  },
  {
   "cell_type": "markdown",
   "id": "992308c5-d49c-4210-abaf-15293c827275",
   "metadata": {},
   "source": [
    "Tìm mối tương quan giữa 1 số và 1 phân tích -> 1WAY ANOVA"
   ]
  },
  {
   "cell_type": "markdown",
   "id": "9c0b52d3-1025-4be1-9bd5-c4eaebf61c09",
   "metadata": {},
   "source": [
    "H0 -> không có mối tương quan"
   ]
  },
  {
   "cell_type": "markdown",
   "id": "2cedd0d7-33e2-47a3-958f-4622501ba4aa",
   "metadata": {},
   "source": [
    "Không có mối liên hệ nào giữa outlet_tpye và sales\n"
   ]
  },
  {
   "cell_type": "markdown",
   "id": "2d585613-60bf-4ad5-afac-07de68e3a95b",
   "metadata": {},
   "source": [
    "Giá trị p <0,05-> Bác bỏ giả thuyết "
   ]
  },
  {
   "cell_type": "code",
   "execution_count": 150,
   "id": "0f59f673-188d-40d4-b505-f60d20bfc486",
   "metadata": {},
   "outputs": [
    {
     "name": "stdout",
     "output_type": "stream",
     "text": [
      "Outlet_Location_Type\n",
      "Tier 1    [3735.138, 2097.27, 1516.0266, 2187.153, 1589....\n",
      "Tier 2    [1076.5986, 4710.535, 2748.4224, 1587.2672, 83...\n",
      "Tier 3    [443.4228, 732.38, 994.7052, 556.6088, 343.552...\n",
      "Name: Item_Outlet_Sales, dtype: object\n"
     ]
    }
   ],
   "source": [
    "anova_prep_res=df.groupby('Outlet_Location_Type')['Item_Outlet_Sales'].apply(list)\n",
    "\n",
    "print(anova_prep_res)"
   ]
  },
  {
   "cell_type": "code",
   "execution_count": 151,
   "id": "65cc9dbb-1caa-4636-8ccf-c692f01f1313",
   "metadata": {},
   "outputs": [],
   "source": [
    "#from scipy.stats import f_oneway"
   ]
  },
  {
   "cell_type": "code",
   "execution_count": 152,
   "id": "98c49dcd-d012-4614-bd35-246a04c14803",
   "metadata": {},
   "outputs": [],
   "source": [
    "anovaresults=f_oneway(*anova_prep_res)\n",
    "#Sử dụng cú pháp *anova_prep_res, chúng ta truyền các danh sách giá trị 'Item_Outlet_Sales' từ biến anova_prep_res vào hàm f_oneway(). \n",
    "#Dấu * trước anova_prep_res giải nén danh sách và truyền từng danh sách riêng lẻ vào hàm f_oneway().\n",
    "#danh sách giá trị 'Item_Outlet_Sales' tương ứng với từng nhóm được truyền vào hàm f_oneway()."
   ]
  },
  {
   "cell_type": "code",
   "execution_count": 153,
   "id": "9ed70ea7-d70d-4909-9fbf-c17a47f2dc81",
   "metadata": {},
   "outputs": [
    {
     "name": "stdout",
     "output_type": "stream",
     "text": [
      "The p value is 7.025683417882415e-24\n"
     ]
    }
   ],
   "source": [
    "print(\"The p value is\",anovaresults[1])"
   ]
  },
  {
   "cell_type": "markdown",
   "id": "a51dc935-a8c0-4a75-8a64-1c4f752cb672",
   "metadata": {},
   "source": [
    "Nhận xét: \n",
    "Giá trị F-statistic là một thống kê được sử dụng trong phân tích phương sai để đánh giá sự khác biệt giữa các nhóm. Khi giá trị F-statistic càng lớn, thì khả năng sự khác biệt giữa các nhóm cũng càng cao.\n",
    "Giá trị p-value là giá trị xác suất được tính dựa trên phân phối F. Nó đo lường mức độ chắc chắn về sự khác biệt giữa các nhóm. Trong trường hợp này, giá trị p-value rất rất nhỏ (7.025683417882415e-24), gần bằng không. Điều này cho thấy rằng có sự khác biệt có ý nghĩa thống kê giữa các nhóm trong biến 'Outlet_Location_Type'.\n",
    "===> bác bỏ giả thuyết không có sự khác biệt giữa các nhóm và chấp nhận giả thuyết rằng có sự khác biệt có ý nghĩa thống kê giữa các nhóm trong biến 'Outlet_Location_Type'."
   ]
  },
  {
   "cell_type": "code",
   "execution_count": 154,
   "id": "9020112c",
   "metadata": {},
   "outputs": [
    {
     "data": {
      "text/plain": [
       "F_onewayResult(statistic=53.64761754128398, pvalue=7.025683417882415e-24)"
      ]
     },
     "execution_count": 154,
     "metadata": {},
     "output_type": "execute_result"
    }
   ],
   "source": [
    "anovaresults"
   ]
  },
  {
   "cell_type": "markdown",
   "id": "65049794-0748-4109-bfb3-5e87db9af037",
   "metadata": {},
   "source": [
    "### 7. Feature Engineering"
   ]
  },
  {
   "cell_type": "code",
   "execution_count": 155,
   "id": "8f1559b2-88a8-4a34-94cc-a43c905c1051",
   "metadata": {},
   "outputs": [
    {
     "data": {
      "text/html": [
       "<div>\n",
       "<style scoped>\n",
       "    .dataframe tbody tr th:only-of-type {\n",
       "        vertical-align: middle;\n",
       "    }\n",
       "\n",
       "    .dataframe tbody tr th {\n",
       "        vertical-align: top;\n",
       "    }\n",
       "\n",
       "    .dataframe thead th {\n",
       "        text-align: right;\n",
       "    }\n",
       "</style>\n",
       "<table border=\"1\" class=\"dataframe\">\n",
       "  <thead>\n",
       "    <tr style=\"text-align: right;\">\n",
       "      <th></th>\n",
       "      <th>Item_Identifier</th>\n",
       "      <th>Item_Weight</th>\n",
       "      <th>Item_Fat_Content</th>\n",
       "      <th>Item_Visibility</th>\n",
       "      <th>Item_Type</th>\n",
       "      <th>Item_MRP</th>\n",
       "      <th>Outlet_Identifier</th>\n",
       "      <th>Outlet_Establishment_Year</th>\n",
       "      <th>Outlet_Size</th>\n",
       "      <th>Outlet_Location_Type</th>\n",
       "      <th>Outlet_Type</th>\n",
       "      <th>Item_Outlet_Sales</th>\n",
       "    </tr>\n",
       "  </thead>\n",
       "  <tbody>\n",
       "    <tr>\n",
       "      <th>0</th>\n",
       "      <td>FDA15</td>\n",
       "      <td>9.30</td>\n",
       "      <td>Low Fat</td>\n",
       "      <td>0.016047</td>\n",
       "      <td>Dairy</td>\n",
       "      <td>249.8092</td>\n",
       "      <td>OUT049</td>\n",
       "      <td>1999</td>\n",
       "      <td>Medium</td>\n",
       "      <td>Tier 1</td>\n",
       "      <td>Supermarket Type1</td>\n",
       "      <td>3735.1380</td>\n",
       "    </tr>\n",
       "    <tr>\n",
       "      <th>1</th>\n",
       "      <td>DRC01</td>\n",
       "      <td>5.92</td>\n",
       "      <td>Regular</td>\n",
       "      <td>0.019278</td>\n",
       "      <td>Soft Drinks</td>\n",
       "      <td>48.2692</td>\n",
       "      <td>OUT018</td>\n",
       "      <td>2009</td>\n",
       "      <td>Medium</td>\n",
       "      <td>Tier 3</td>\n",
       "      <td>Supermarket Type2</td>\n",
       "      <td>443.4228</td>\n",
       "    </tr>\n",
       "    <tr>\n",
       "      <th>2</th>\n",
       "      <td>FDN15</td>\n",
       "      <td>17.50</td>\n",
       "      <td>Low Fat</td>\n",
       "      <td>0.016760</td>\n",
       "      <td>Meat</td>\n",
       "      <td>141.6180</td>\n",
       "      <td>OUT049</td>\n",
       "      <td>1999</td>\n",
       "      <td>Medium</td>\n",
       "      <td>Tier 1</td>\n",
       "      <td>Supermarket Type1</td>\n",
       "      <td>2097.2700</td>\n",
       "    </tr>\n",
       "    <tr>\n",
       "      <th>3</th>\n",
       "      <td>FDX07</td>\n",
       "      <td>19.20</td>\n",
       "      <td>Regular</td>\n",
       "      <td>0.000000</td>\n",
       "      <td>Fruits and Vegetables</td>\n",
       "      <td>182.0950</td>\n",
       "      <td>OUT010</td>\n",
       "      <td>1998</td>\n",
       "      <td>Small</td>\n",
       "      <td>Tier 3</td>\n",
       "      <td>Grocery Store</td>\n",
       "      <td>732.3800</td>\n",
       "    </tr>\n",
       "    <tr>\n",
       "      <th>4</th>\n",
       "      <td>NCD19</td>\n",
       "      <td>8.93</td>\n",
       "      <td>Low Fat</td>\n",
       "      <td>0.000000</td>\n",
       "      <td>Household</td>\n",
       "      <td>53.8614</td>\n",
       "      <td>OUT013</td>\n",
       "      <td>1987</td>\n",
       "      <td>High</td>\n",
       "      <td>Tier 3</td>\n",
       "      <td>Supermarket Type1</td>\n",
       "      <td>994.7052</td>\n",
       "    </tr>\n",
       "  </tbody>\n",
       "</table>\n",
       "</div>"
      ],
      "text/plain": [
       "  Item_Identifier  Item_Weight Item_Fat_Content  Item_Visibility  \\\n",
       "0           FDA15         9.30          Low Fat         0.016047   \n",
       "1           DRC01         5.92          Regular         0.019278   \n",
       "2           FDN15        17.50          Low Fat         0.016760   \n",
       "3           FDX07        19.20          Regular         0.000000   \n",
       "4           NCD19         8.93          Low Fat         0.000000   \n",
       "\n",
       "               Item_Type  Item_MRP Outlet_Identifier  \\\n",
       "0                  Dairy  249.8092            OUT049   \n",
       "1            Soft Drinks   48.2692            OUT018   \n",
       "2                   Meat  141.6180            OUT049   \n",
       "3  Fruits and Vegetables  182.0950            OUT010   \n",
       "4              Household   53.8614            OUT013   \n",
       "\n",
       "   Outlet_Establishment_Year Outlet_Size Outlet_Location_Type  \\\n",
       "0                       1999      Medium               Tier 1   \n",
       "1                       2009      Medium               Tier 3   \n",
       "2                       1999      Medium               Tier 1   \n",
       "3                       1998       Small               Tier 3   \n",
       "4                       1987        High               Tier 3   \n",
       "\n",
       "         Outlet_Type  Item_Outlet_Sales  \n",
       "0  Supermarket Type1          3735.1380  \n",
       "1  Supermarket Type2           443.4228  \n",
       "2  Supermarket Type1          2097.2700  \n",
       "3      Grocery Store           732.3800  \n",
       "4  Supermarket Type1           994.7052  "
      ]
     },
     "execution_count": 155,
     "metadata": {},
     "output_type": "execute_result"
    }
   ],
   "source": [
    "data.head()"
   ]
  },
  {
   "cell_type": "markdown",
   "id": "df953be6-1adc-4968-b4db-299b2c97acf4",
   "metadata": {},
   "source": [
    "#### 7.1. Tính tuổi cửa hàng"
   ]
  },
  {
   "cell_type": "code",
   "execution_count": 156,
   "id": "ac404b39-f2f4-4d81-b1a7-a56ed406f456",
   "metadata": {},
   "outputs": [
    {
     "data": {
      "text/html": [
       "<div>\n",
       "<style scoped>\n",
       "    .dataframe tbody tr th:only-of-type {\n",
       "        vertical-align: middle;\n",
       "    }\n",
       "\n",
       "    .dataframe tbody tr th {\n",
       "        vertical-align: top;\n",
       "    }\n",
       "\n",
       "    .dataframe thead th {\n",
       "        text-align: right;\n",
       "    }\n",
       "</style>\n",
       "<table border=\"1\" class=\"dataframe\">\n",
       "  <thead>\n",
       "    <tr style=\"text-align: right;\">\n",
       "      <th></th>\n",
       "      <th>Item_Identifier</th>\n",
       "      <th>Item_Weight</th>\n",
       "      <th>Item_Fat_Content</th>\n",
       "      <th>Item_Visibility</th>\n",
       "      <th>Item_Type</th>\n",
       "      <th>Item_MRP</th>\n",
       "      <th>Outlet_Identifier</th>\n",
       "      <th>Outlet_Size</th>\n",
       "      <th>Outlet_Location_Type</th>\n",
       "      <th>Outlet_Type</th>\n",
       "      <th>Item_Outlet_Sales</th>\n",
       "      <th>Outlet_Age</th>\n",
       "    </tr>\n",
       "  </thead>\n",
       "  <tbody>\n",
       "    <tr>\n",
       "      <th>0</th>\n",
       "      <td>FDA15</td>\n",
       "      <td>9.30</td>\n",
       "      <td>Low Fat</td>\n",
       "      <td>0.016047</td>\n",
       "      <td>Dairy</td>\n",
       "      <td>249.8092</td>\n",
       "      <td>OUT049</td>\n",
       "      <td>Medium</td>\n",
       "      <td>Tier 1</td>\n",
       "      <td>Supermarket Type1</td>\n",
       "      <td>3735.1380</td>\n",
       "      <td>23</td>\n",
       "    </tr>\n",
       "    <tr>\n",
       "      <th>1</th>\n",
       "      <td>DRC01</td>\n",
       "      <td>5.92</td>\n",
       "      <td>Regular</td>\n",
       "      <td>0.019278</td>\n",
       "      <td>Soft Drinks</td>\n",
       "      <td>48.2692</td>\n",
       "      <td>OUT018</td>\n",
       "      <td>Medium</td>\n",
       "      <td>Tier 3</td>\n",
       "      <td>Supermarket Type2</td>\n",
       "      <td>443.4228</td>\n",
       "      <td>13</td>\n",
       "    </tr>\n",
       "    <tr>\n",
       "      <th>2</th>\n",
       "      <td>FDN15</td>\n",
       "      <td>17.50</td>\n",
       "      <td>Low Fat</td>\n",
       "      <td>0.016760</td>\n",
       "      <td>Meat</td>\n",
       "      <td>141.6180</td>\n",
       "      <td>OUT049</td>\n",
       "      <td>Medium</td>\n",
       "      <td>Tier 1</td>\n",
       "      <td>Supermarket Type1</td>\n",
       "      <td>2097.2700</td>\n",
       "      <td>23</td>\n",
       "    </tr>\n",
       "    <tr>\n",
       "      <th>3</th>\n",
       "      <td>FDX07</td>\n",
       "      <td>19.20</td>\n",
       "      <td>Regular</td>\n",
       "      <td>0.000000</td>\n",
       "      <td>Fruits and Vegetables</td>\n",
       "      <td>182.0950</td>\n",
       "      <td>OUT010</td>\n",
       "      <td>Small</td>\n",
       "      <td>Tier 3</td>\n",
       "      <td>Grocery Store</td>\n",
       "      <td>732.3800</td>\n",
       "      <td>24</td>\n",
       "    </tr>\n",
       "    <tr>\n",
       "      <th>4</th>\n",
       "      <td>NCD19</td>\n",
       "      <td>8.93</td>\n",
       "      <td>Low Fat</td>\n",
       "      <td>0.000000</td>\n",
       "      <td>Household</td>\n",
       "      <td>53.8614</td>\n",
       "      <td>OUT013</td>\n",
       "      <td>High</td>\n",
       "      <td>Tier 3</td>\n",
       "      <td>Supermarket Type1</td>\n",
       "      <td>994.7052</td>\n",
       "      <td>35</td>\n",
       "    </tr>\n",
       "  </tbody>\n",
       "</table>\n",
       "</div>"
      ],
      "text/plain": [
       "  Item_Identifier  Item_Weight Item_Fat_Content  Item_Visibility  \\\n",
       "0           FDA15         9.30          Low Fat         0.016047   \n",
       "1           DRC01         5.92          Regular         0.019278   \n",
       "2           FDN15        17.50          Low Fat         0.016760   \n",
       "3           FDX07        19.20          Regular         0.000000   \n",
       "4           NCD19         8.93          Low Fat         0.000000   \n",
       "\n",
       "               Item_Type  Item_MRP Outlet_Identifier Outlet_Size  \\\n",
       "0                  Dairy  249.8092            OUT049      Medium   \n",
       "1            Soft Drinks   48.2692            OUT018      Medium   \n",
       "2                   Meat  141.6180            OUT049      Medium   \n",
       "3  Fruits and Vegetables  182.0950            OUT010       Small   \n",
       "4              Household   53.8614            OUT013        High   \n",
       "\n",
       "  Outlet_Location_Type        Outlet_Type  Item_Outlet_Sales  Outlet_Age  \n",
       "0               Tier 1  Supermarket Type1          3735.1380          23  \n",
       "1               Tier 3  Supermarket Type2           443.4228          13  \n",
       "2               Tier 1  Supermarket Type1          2097.2700          23  \n",
       "3               Tier 3      Grocery Store           732.3800          24  \n",
       "4               Tier 3  Supermarket Type1           994.7052          35  "
      ]
     },
     "execution_count": 156,
     "metadata": {},
     "output_type": "execute_result"
    }
   ],
   "source": [
    "df['Outlet_Age']=2022 - df['Outlet_Establishment_Year']\n",
    "df = df.drop(columns=['Outlet_Establishment_Year'])\n",
    "\n",
    "df.head()"
   ]
  },
  {
   "cell_type": "code",
   "execution_count": 157,
   "id": "fe59d0da-17d1-4c2a-8d20-4f9b7ebc2b2d",
   "metadata": {},
   "outputs": [
    {
     "data": {
      "text/plain": [
       "Index(['Item_Identifier', 'Item_Weight', 'Item_Fat_Content', 'Item_Visibility',\n",
       "       'Item_Type', 'Item_MRP', 'Outlet_Identifier', 'Outlet_Size',\n",
       "       'Outlet_Location_Type', 'Outlet_Type', 'Item_Outlet_Sales',\n",
       "       'Outlet_Age'],\n",
       "      dtype='object')"
      ]
     },
     "execution_count": 157,
     "metadata": {},
     "output_type": "execute_result"
    }
   ],
   "source": [
    "df.columns"
   ]
  },
  {
   "cell_type": "markdown",
   "id": "4701ded2-5174-4361-84a7-9d336a8b0b95",
   "metadata": {},
   "source": [
    "#### 7.2. Label Encoding"
   ]
  },
  {
   "cell_type": "code",
   "execution_count": 158,
   "id": "22e35284-aa4c-44c6-9a47-a08ae7b6e6db",
   "metadata": {},
   "outputs": [],
   "source": [
    "#from sklearn.preprocessing import LabelEncoder"
   ]
  },
  {
   "cell_type": "code",
   "execution_count": 159,
   "id": "84c592cf-6d0d-4323-b071-b28520a3cf02",
   "metadata": {},
   "outputs": [
    {
     "data": {
      "text/html": [
       "<div>\n",
       "<style scoped>\n",
       "    .dataframe tbody tr th:only-of-type {\n",
       "        vertical-align: middle;\n",
       "    }\n",
       "\n",
       "    .dataframe tbody tr th {\n",
       "        vertical-align: top;\n",
       "    }\n",
       "\n",
       "    .dataframe thead th {\n",
       "        text-align: right;\n",
       "    }\n",
       "</style>\n",
       "<table border=\"1\" class=\"dataframe\">\n",
       "  <thead>\n",
       "    <tr style=\"text-align: right;\">\n",
       "      <th></th>\n",
       "      <th>Item_Weight</th>\n",
       "      <th>Item_Fat_Content</th>\n",
       "      <th>Item_Visibility</th>\n",
       "      <th>Item_MRP</th>\n",
       "      <th>Outlet_Identifier</th>\n",
       "      <th>Outlet_Size</th>\n",
       "      <th>Outlet_Location_Type</th>\n",
       "      <th>Outlet_Type</th>\n",
       "      <th>Item_Outlet_Sales</th>\n",
       "      <th>Outlet_Age</th>\n",
       "      <th>...</th>\n",
       "      <th>Item_Type_Fruits and Vegetables</th>\n",
       "      <th>Item_Type_Hard Drinks</th>\n",
       "      <th>Item_Type_Health and Hygiene</th>\n",
       "      <th>Item_Type_Household</th>\n",
       "      <th>Item_Type_Meat</th>\n",
       "      <th>Item_Type_Others</th>\n",
       "      <th>Item_Type_Seafood</th>\n",
       "      <th>Item_Type_Snack Foods</th>\n",
       "      <th>Item_Type_Soft Drinks</th>\n",
       "      <th>Item_Type_Starchy Foods</th>\n",
       "    </tr>\n",
       "  </thead>\n",
       "  <tbody>\n",
       "    <tr>\n",
       "      <th>0</th>\n",
       "      <td>9.30</td>\n",
       "      <td>0</td>\n",
       "      <td>0.016047</td>\n",
       "      <td>249.8092</td>\n",
       "      <td>9</td>\n",
       "      <td>1</td>\n",
       "      <td>0</td>\n",
       "      <td>1</td>\n",
       "      <td>3735.1380</td>\n",
       "      <td>23</td>\n",
       "      <td>...</td>\n",
       "      <td>0</td>\n",
       "      <td>0</td>\n",
       "      <td>0</td>\n",
       "      <td>0</td>\n",
       "      <td>0</td>\n",
       "      <td>0</td>\n",
       "      <td>0</td>\n",
       "      <td>0</td>\n",
       "      <td>0</td>\n",
       "      <td>0</td>\n",
       "    </tr>\n",
       "    <tr>\n",
       "      <th>1</th>\n",
       "      <td>5.92</td>\n",
       "      <td>1</td>\n",
       "      <td>0.019278</td>\n",
       "      <td>48.2692</td>\n",
       "      <td>3</td>\n",
       "      <td>1</td>\n",
       "      <td>2</td>\n",
       "      <td>2</td>\n",
       "      <td>443.4228</td>\n",
       "      <td>13</td>\n",
       "      <td>...</td>\n",
       "      <td>0</td>\n",
       "      <td>0</td>\n",
       "      <td>0</td>\n",
       "      <td>0</td>\n",
       "      <td>0</td>\n",
       "      <td>0</td>\n",
       "      <td>0</td>\n",
       "      <td>0</td>\n",
       "      <td>1</td>\n",
       "      <td>0</td>\n",
       "    </tr>\n",
       "    <tr>\n",
       "      <th>2</th>\n",
       "      <td>17.50</td>\n",
       "      <td>0</td>\n",
       "      <td>0.016760</td>\n",
       "      <td>141.6180</td>\n",
       "      <td>9</td>\n",
       "      <td>1</td>\n",
       "      <td>0</td>\n",
       "      <td>1</td>\n",
       "      <td>2097.2700</td>\n",
       "      <td>23</td>\n",
       "      <td>...</td>\n",
       "      <td>0</td>\n",
       "      <td>0</td>\n",
       "      <td>0</td>\n",
       "      <td>0</td>\n",
       "      <td>1</td>\n",
       "      <td>0</td>\n",
       "      <td>0</td>\n",
       "      <td>0</td>\n",
       "      <td>0</td>\n",
       "      <td>0</td>\n",
       "    </tr>\n",
       "    <tr>\n",
       "      <th>3</th>\n",
       "      <td>19.20</td>\n",
       "      <td>1</td>\n",
       "      <td>0.000000</td>\n",
       "      <td>182.0950</td>\n",
       "      <td>0</td>\n",
       "      <td>2</td>\n",
       "      <td>2</td>\n",
       "      <td>0</td>\n",
       "      <td>732.3800</td>\n",
       "      <td>24</td>\n",
       "      <td>...</td>\n",
       "      <td>1</td>\n",
       "      <td>0</td>\n",
       "      <td>0</td>\n",
       "      <td>0</td>\n",
       "      <td>0</td>\n",
       "      <td>0</td>\n",
       "      <td>0</td>\n",
       "      <td>0</td>\n",
       "      <td>0</td>\n",
       "      <td>0</td>\n",
       "    </tr>\n",
       "    <tr>\n",
       "      <th>4</th>\n",
       "      <td>8.93</td>\n",
       "      <td>0</td>\n",
       "      <td>0.000000</td>\n",
       "      <td>53.8614</td>\n",
       "      <td>1</td>\n",
       "      <td>0</td>\n",
       "      <td>2</td>\n",
       "      <td>1</td>\n",
       "      <td>994.7052</td>\n",
       "      <td>35</td>\n",
       "      <td>...</td>\n",
       "      <td>0</td>\n",
       "      <td>0</td>\n",
       "      <td>0</td>\n",
       "      <td>1</td>\n",
       "      <td>0</td>\n",
       "      <td>0</td>\n",
       "      <td>0</td>\n",
       "      <td>0</td>\n",
       "      <td>0</td>\n",
       "      <td>0</td>\n",
       "    </tr>\n",
       "  </tbody>\n",
       "</table>\n",
       "<p>5 rows × 26 columns</p>\n",
       "</div>"
      ],
      "text/plain": [
       "   Item_Weight  Item_Fat_Content  Item_Visibility  Item_MRP  \\\n",
       "0         9.30                 0         0.016047  249.8092   \n",
       "1         5.92                 1         0.019278   48.2692   \n",
       "2        17.50                 0         0.016760  141.6180   \n",
       "3        19.20                 1         0.000000  182.0950   \n",
       "4         8.93                 0         0.000000   53.8614   \n",
       "\n",
       "   Outlet_Identifier  Outlet_Size  Outlet_Location_Type  Outlet_Type  \\\n",
       "0                  9            1                     0            1   \n",
       "1                  3            1                     2            2   \n",
       "2                  9            1                     0            1   \n",
       "3                  0            2                     2            0   \n",
       "4                  1            0                     2            1   \n",
       "\n",
       "   Item_Outlet_Sales  Outlet_Age  ...  Item_Type_Fruits and Vegetables  \\\n",
       "0          3735.1380          23  ...                                0   \n",
       "1           443.4228          13  ...                                0   \n",
       "2          2097.2700          23  ...                                0   \n",
       "3           732.3800          24  ...                                1   \n",
       "4           994.7052          35  ...                                0   \n",
       "\n",
       "   Item_Type_Hard Drinks  Item_Type_Health and Hygiene  Item_Type_Household  \\\n",
       "0                      0                             0                    0   \n",
       "1                      0                             0                    0   \n",
       "2                      0                             0                    0   \n",
       "3                      0                             0                    0   \n",
       "4                      0                             0                    1   \n",
       "\n",
       "   Item_Type_Meat  Item_Type_Others  Item_Type_Seafood  Item_Type_Snack Foods  \\\n",
       "0               0                 0                  0                      0   \n",
       "1               0                 0                  0                      0   \n",
       "2               1                 0                  0                      0   \n",
       "3               0                 0                  0                      0   \n",
       "4               0                 0                  0                      0   \n",
       "\n",
       "   Item_Type_Soft Drinks  Item_Type_Starchy Foods  \n",
       "0                      0                        0  \n",
       "1                      1                        0  \n",
       "2                      0                        0  \n",
       "3                      0                        0  \n",
       "4                      0                        0  \n",
       "\n",
       "[5 rows x 26 columns]"
      ]
     },
     "execution_count": 159,
     "metadata": {},
     "output_type": "execute_result"
    }
   ],
   "source": [
    "le=LabelEncoder()\n",
    "\n",
    "col_encode=['Item_Fat_Content','Outlet_Identifier','Outlet_Size','Outlet_Location_Type','Outlet_Type']\n",
    "\n",
    "for i in col_encode:\n",
    "  df[i]=le.fit_transform(df[i])\n",
    "\n",
    "df_new=df.drop(columns=['Item_Identifier'])\n",
    "df_new=pd.get_dummies(df_new)\n",
    "df_new.head()"
   ]
  },
  {
   "cell_type": "markdown",
   "id": "f4683630-41bb-4007-9535-8f38bce58b01",
   "metadata": {},
   "source": [
    "### 8. Chia tập dữ liệu"
   ]
  },
  {
   "cell_type": "markdown",
   "id": "8e61f121-f9d0-4d88-b8c1-9727532d2719",
   "metadata": {},
   "source": [
    "Các điểm dữ liệu được chia thành hai tập dữ liệu, train và test, theo phương pháp phân tách thử nghiệm huấn luyện. tập train được sử dụng để train model và sau đó model được sử dụng để dự đoán trên tập test nhằm xem mô hình hoạt động như thế nào trên dữ liệu không nhìn thấy và liệu nó có phù hợp hay không phù hợp."
   ]
  },
  {
   "cell_type": "code",
   "execution_count": 160,
   "id": "aa2b141c-6d56-4d79-ad74-f8b06259aacd",
   "metadata": {},
   "outputs": [],
   "source": [
    "from sklearn.model_selection import train_test_split\n",
    "X=df_new.drop(columns=['Item_Outlet_Sales'])\n",
    "y=df_new['Item_Outlet_Sales']\n",
    "\n",
    "X_train,X_test,y_train,y_test=train_test_split(X,y,test_size=0.2,random_state=22222)"
   ]
  },
  {
   "cell_type": "markdown",
   "id": "57afcb71-f712-4d82-b769-36775728f1bf",
   "metadata": {},
   "source": [
    "### 9. Xây dựng Model"
   ]
  },
  {
   "cell_type": "code",
   "execution_count": 161,
   "id": "ad5720e6",
   "metadata": {},
   "outputs": [],
   "source": [
    "models=[ ('lr',LinearRegression()),('ElasticNet',ElasticNet()),('RF',RandomForestRegressor()),\n",
    "         ('ETR',ExtraTreesRegressor()),('GBM',GradientBoostingRegressor()),('MLP',MLPRegressor())\n",
    "\n",
    "]"
   ]
  },
  {
   "cell_type": "code",
   "execution_count": 162,
   "id": "643d954e-a7a1-44ff-b9c3-fd6e803ad7c9",
   "metadata": {},
   "outputs": [],
   "source": [
    "def model_selection_function(x,y,cross_folds,model):\n",
    "  scores=[]\n",
    "  names=[]\n",
    "  for i, j in model:\n",
    "    cv_scores=cross_val_score(j,x,y,cv=cross_folds,n_jobs=-1)\n",
    "    scores.append(cv_scores)\n",
    "    names.append(i)\n",
    "  for k in range(len(scores)):\n",
    "    print(names[k],scores[k].mean())\n",
    "  return"
   ]
  },
  {
   "cell_type": "markdown",
   "id": "9ae336e8",
   "metadata": {},
   "source": [
    "x: Ma trận dữ liệu độc lập (features).\n",
    "y: Véc tơ dữ liệu phụ thuộc (target).\n",
    "cross_folds: Số fold cho cross-validation.\n",
    "model: Danh sách các cặp (tên mô hình, đối tượng mô hình)."
   ]
  },
  {
   "cell_type": "markdown",
   "id": "36537b6e",
   "metadata": {},
   "source": [
    "for i, j in model: Lặp qua từng cặp mô hình trong danh sách model. i là tên mô hình, j là đối tượng mô hình.\n",
    "cv_scores=cross_val_score(j,x,y,cv=cross_folds,n_jobs=-1): Tính toán điểm số cross-validation cho mô hình j trên dữ liệu x và y với số fold bằng cross_folds. Sử dụng n_jobs=-1 để tận dụng tất cả các core CPU.\n",
    "scores.append(cv_scores): Thêm điểm số trung bình của mô hình vào danh sách scores.\n",
    "names.append(i): Thêm tên mô hình vào danh sách names."
   ]
  },
  {
   "cell_type": "markdown",
   "id": "c712acd1",
   "metadata": {},
   "source": [
    "cung cấp có chức năng huấn luyện và đánh giá các mô hình hồi quy sử dụng phương pháp cross-validation"
   ]
  },
  {
   "cell_type": "code",
   "execution_count": 163,
   "id": "3f7b5f20-a972-4525-a5d5-9259dc1b8ac8",
   "metadata": {},
   "outputs": [
    {
     "name": "stdout",
     "output_type": "stream",
     "text": [
      "lr 0.4958178267370769\n",
      "ElasticNet 0.47308329416120437\n",
      "RF 0.5513852776727203\n",
      "ETR 0.4994085486188872\n",
      "GBM 0.5906792517025338\n",
      "MLP 0.4686712950321236\n"
     ]
    }
   ],
   "source": [
    "model_selection_function(X_train,y_train,3,models)"
   ]
  },
  {
   "cell_type": "markdown",
   "id": "8bcdb6ff",
   "metadata": {},
   "source": [
    "==>so sánh hiệu suất của các mô hình hồi quy khác nhau trên tập dữ liệu huấn luyện đã chia bằng phương pháp cross-validation."
   ]
  },
  {
   "cell_type": "markdown",
   "id": "25011a67",
   "metadata": {},
   "source": [
    "Mô hình Gradient Boosting (GBM) có điểm số cao nhất (0.59), cho thấy mức độ chính xác dự đoán trên tập dữ liệu huấn luyện tốt nhất trong số các mô hình được đánh giá."
   ]
  },
  {
   "cell_type": "code",
   "execution_count": 164,
   "id": "382da83b",
   "metadata": {},
   "outputs": [
    {
     "name": "stdout",
     "output_type": "stream",
     "text": [
      "lr 0.4964782457688462\n",
      "ElasticNet 0.47339485984955526\n",
      "RF 0.5522238489828281\n",
      "ETR 0.5041183582474793\n",
      "GBM 0.5911711361651243\n",
      "MLP 0.49827258615737513\n"
     ]
    }
   ],
   "source": [
    "model_selection_function(X_train,y_train,5,models)"
   ]
  },
  {
   "cell_type": "markdown",
   "id": "bba6fee0-3f6f-49da-87a5-66b35a078bf8",
   "metadata": {},
   "source": [
    "### 10. Hồi quy Spline"
   ]
  },
  {
   "cell_type": "markdown",
   "id": "2a0f1369",
   "metadata": {},
   "source": [
    "Sử dụng hồi quy spline trong quy trình cross-validation giúp đa dạng hóa mô hình dự đoán. Hồi quy spline cho phép mô hình học được các mối quan hệ phi tuyến giữa biến đầu vào và biến mục tiêu, điều này có thể cải thiện khả năng dự đoán của mô hình so với các mô hình tuyến tính đơn giản."
   ]
  },
  {
   "cell_type": "markdown",
   "id": "86d11e15-4e1b-46b8-9a5a-10ec339b044d",
   "metadata": {},
   "source": [
    "#### 10.1. Multivariate Adaptive Regression Spline"
   ]
  },
  {
   "cell_type": "code",
   "execution_count": 165,
   "id": "fc595817-2bf5-46ad-a1f1-9c28b43ee0ea",
   "metadata": {},
   "outputs": [],
   "source": [
    "#!pip install git+https://github.com/scikit-learn-contrib/py-earth@v0.2dev"
   ]
  },
  {
   "cell_type": "code",
   "execution_count": 166,
   "id": "cdb799c1",
   "metadata": {},
   "outputs": [],
   "source": [
    "from pyearth import Earth\n",
    "\n",
    "model=Earth(max_degree=5,endspan=20)\n",
    "\n",
    "scores=cross_val_score(model,X_train,y_train,cv=3,n_jobs=-1)"
   ]
  },
  {
   "cell_type": "code",
   "execution_count": 167,
   "id": "d071bf5d",
   "metadata": {},
   "outputs": [
    {
     "data": {
      "text/plain": [
       "array([0.61459677, 0.57680022, 0.5967705 ])"
      ]
     },
     "execution_count": 167,
     "metadata": {},
     "output_type": "execute_result"
    }
   ],
   "source": [
    "scores"
   ]
  },
  {
   "cell_type": "code",
   "execution_count": 168,
   "id": "8035997b",
   "metadata": {},
   "outputs": [
    {
     "data": {
      "text/plain": [
       "0.5960558302019042"
      ]
     },
     "execution_count": 168,
     "metadata": {},
     "output_type": "execute_result"
    }
   ],
   "source": [
    "scores.mean()"
   ]
  },
  {
   "cell_type": "markdown",
   "id": "42a34890",
   "metadata": {},
   "source": [
    "Hiệu suất trung bình của mô hình Earth trên toàn bộ tập dữ liệu huấn luyện khi được đánh giá bằng phương pháp cross-validation với số fold là 5."
   ]
  },
  {
   "cell_type": "code",
   "execution_count": 169,
   "id": "d459b97f",
   "metadata": {},
   "outputs": [
    {
     "data": {
      "text/plain": [
       "0.5543207819629505"
      ]
     },
     "execution_count": 169,
     "metadata": {},
     "output_type": "execute_result"
    }
   ],
   "source": [
    "from sklearn.preprocessing import PolynomialFeatures,SplineTransformer\n",
    "from sklearn.pipeline import make_pipeline\n",
    "\n",
    "spline_model=make_pipeline(SplineTransformer(n_knots=3,degree=5),LinearRegression())\n",
    "\n",
    "scores=cross_val_score(spline_model,X_train,y_train,cv=3,n_jobs=-1)\n",
    "\n",
    "scores.mean()"
   ]
  },
  {
   "cell_type": "markdown",
   "id": "4abd9321",
   "metadata": {},
   "source": [
    "đánh giá hiệu suất của một mô hình hồi quy tuyến tính được kết hợp với tiền xử lý SplineTransformer. Mục đích là để kiểm tra xem việc chuyển đổi dữ liệu thành các đa thức spline có cải thiện độ chính xác của mô hình so với sử dụng đơn thuần mô hình hồi quy tuyến tính hay không"
   ]
  },
  {
   "cell_type": "markdown",
   "id": "ef93a2ea",
   "metadata": {},
   "source": [
    "Tạo một pipeline gồm việc chuyển đổi dữ liệu bằng SplineTransformer và mô hình hồi quy tuyến tính LinearRegression. Sau đó, mã tính điểm số trung bình của pipeline này thông qua cross-validation trên tập dữ liệu huấn luyện đã chia (X_train, y_train)"
   ]
  },
  {
   "cell_type": "markdown",
   "id": "dd83266b",
   "metadata": {},
   "source": [
    "Kết hợp SplineTransformer và LinearRegression trong một pipeline cho phép mô hình có khả năng mô hình hóa các mối quan hệ phức tạp hơn so với việc chỉ sử dụng LinearRegression trên dữ liệu ban đầu"
   ]
  },
  {
   "cell_type": "markdown",
   "id": "11a7e0a6",
   "metadata": {},
   "source": [
    "Điểm số càng gần 1 thì mô hình càng tốt và càng gần 0 thì mô hình càng kém"
   ]
  },
  {
   "cell_type": "markdown",
   "id": "a69a6aec",
   "metadata": {},
   "source": [
    "#### 10.2. Generalized Additive Models"
   ]
  },
  {
   "cell_type": "markdown",
   "id": "ca3e7835",
   "metadata": {},
   "source": [
    "GAM kết hợp cả mô hình tuyến tính và các hàm spline để mô hình hóa các mối quan hệ phức tạp giữa các biến."
   ]
  },
  {
   "cell_type": "code",
   "execution_count": 170,
   "id": "3a628de6",
   "metadata": {},
   "outputs": [
    {
     "name": "stdout",
     "output_type": "stream",
     "text": [
      "did not converge\n",
      "PoissonGAM                                                                                                \n",
      "=============================================== ==========================================================\n",
      "Distribution:                       PoissonDist Effective DoF:                                       91.55\n",
      "Link Function:                          LogLink Log Likelihood:                              -1435493.6753\n",
      "Number of Samples:                         6815 AIC:                                          2871170.4506\n",
      "                                                AICc:                                         2871173.0268\n",
      "                                                UBRE:                                             414.1824\n",
      "                                                Scale:                                                 1.0\n",
      "                                                Pseudo R-Squared:                                   0.6818\n",
      "==========================================================================================================\n",
      "Feature Function                  Lambda               Rank         EDoF         P > x        Sig. Code   \n",
      "================================= ==================== ============ ============ ============ ============\n",
      "s(0)                              [0.6]                23           23.0         0.00e+00     ***         \n",
      "s(1)                              [0.6]                23           1.2          0.00e+00     ***         \n",
      "s(2)                              [0.6]                23           21.5         0.00e+00     ***         \n",
      "s(3)                              [0.6]                23           21.9         0.00e+00     ***         \n",
      "s(4)                              [0.6]                23           9.0          0.00e+00     ***         \n",
      "s(5)                              [0.6]                23           0.0          0.00e+00     ***         \n",
      "s(6)                              [0.6]                23           0.1          0.00e+00     ***         \n",
      "s(7)                              [0.6]                23           0.1          0.00e+00     ***         \n",
      "s(8)                              [0.6]                23           0.1          0.00e+00     ***         \n",
      "s(9)                              [0.6]                23           1.0          0.00e+00     ***         \n",
      "s(10)                             [0.6]                23           1.0          0.00e+00     ***         \n",
      "s(11)                             [0.6]                23           1.0          0.00e+00     ***         \n",
      "s(12)                             [0.6]                23           1.0          0.00e+00     ***         \n",
      "s(13)                             [0.6]                23           1.0          0.00e+00     ***         \n",
      "s(14)                             [0.6]                23           1.0          0.00e+00     ***         \n",
      "s(15)                             [0.6]                23           1.0          0.00e+00     ***         \n",
      "s(16)                             [0.6]                23           1.0          0.00e+00     ***         \n",
      "s(17)                             [0.6]                23           1.0          0.00e+00     ***         \n",
      "s(18)                             [0.6]                23           1.0          0.00e+00     ***         \n",
      "s(19)                             [0.6]                23           0.9          0.00e+00     ***         \n",
      "s(20)                             [0.6]                23           1.0          0.00e+00     ***         \n",
      "s(21)                             [0.6]                23           1.0          0.00e+00     ***         \n",
      "s(22)                             [0.6]                23           0.9          0.00e+00     ***         \n",
      "s(23)                             [0.6]                23           0.9          0.00e+00     ***         \n",
      "s(24)                             [0.6]                23           0.0          0.00e+00     ***         \n",
      "intercept                                              1            0.0          0.00e+00     ***         \n",
      "==========================================================================================================\n",
      "Significance codes:  0 '***' 0.001 '**' 0.01 '*' 0.05 '.' 0.1 ' ' 1\n",
      "\n",
      "WARNING: Fitting splines and a linear function to a feature introduces a model identifiability problem\n",
      "         which can cause p-values to appear significant when they are not.\n",
      "\n",
      "WARNING: p-values calculated in this manner behave correctly for un-penalized models or models with\n",
      "         known smoothing parameters, but when smoothing parameters have been estimated, the p-values\n",
      "         are typically lower than they should be, meaning that the tests reject the null too readily.\n",
      "None\n"
     ]
    }
   ],
   "source": [
    "from pygam import PoissonGAM\n",
    "\n",
    "gam = PoissonGAM(n_splines=23).fit(X_train.values, y_train)\n",
    "\n",
    "print(gam.summary())"
   ]
  },
  {
   "cell_type": "markdown",
   "id": "93dfaf91",
   "metadata": {},
   "source": [
    "### 11. Tập hợp mô hình"
   ]
  },
  {
   "cell_type": "markdown",
   "id": "2bc8890a",
   "metadata": {},
   "source": [
    "#### 11.1. Biểu quyết hồi quy"
   ]
  },
  {
   "cell_type": "markdown",
   "id": "161bc572",
   "metadata": {},
   "source": [
    "Kết hợp các mô hình hồi quy khác nhau lại với nhau"
   ]
  },
  {
   "cell_type": "code",
   "execution_count": 171,
   "id": "e86c3b33",
   "metadata": {},
   "outputs": [
    {
     "name": "stdout",
     "output_type": "stream",
     "text": [
      "[0.55906236 0.52590899 0.56599464]\n",
      "0.5503219990565696\n"
     ]
    }
   ],
   "source": [
    "from sklearn.ensemble import VotingRegressor\n",
    "\n",
    "reg1=LinearRegression()\n",
    "reg2=GradientBoostingRegressor()\n",
    "reg3=MLPRegressor()\n",
    "\n",
    "voting_regress=VotingRegressor(estimators=[('LR',reg1),('GBM',reg2),('MLP',reg3)])\n",
    "\n",
    "scores=cross_val_score(voting_regress,X_train,y_train,cv=3)\n",
    "print(scores)\n",
    "print(scores.mean())"
   ]
  },
  {
   "cell_type": "markdown",
   "id": "0c13d4dc",
   "metadata": {},
   "source": [
    "#### 11.2. Xếp chồng mô hình"
   ]
  },
  {
   "cell_type": "code",
   "execution_count": 172,
   "id": "7f05e788",
   "metadata": {},
   "outputs": [],
   "source": [
    "reg1=LinearRegression()\n",
    "reg2=GradientBoostingRegressor()\n",
    "estimators=[('LR',reg1),('GBM',reg2)]"
   ]
  },
  {
   "cell_type": "code",
   "execution_count": 173,
   "id": "b3181e51",
   "metadata": {},
   "outputs": [],
   "source": [
    "from sklearn.ensemble import StackingRegressor\n",
    "level_1_estimator= MLPRegressor()\n",
    "stacking_model= StackingRegressor(estimators=estimators,final_estimator=level_1_estimator)"
   ]
  },
  {
   "cell_type": "code",
   "execution_count": 174,
   "id": "714353e4",
   "metadata": {},
   "outputs": [],
   "source": [
    "scores=cross_val_score(stacking_model,X_train,y_train,cv=3)"
   ]
  },
  {
   "cell_type": "code",
   "execution_count": 175,
   "id": "601f5ff3",
   "metadata": {},
   "outputs": [
    {
     "data": {
      "text/plain": [
       "array([0.60727808, 0.56776498, 0.5994005 ])"
      ]
     },
     "execution_count": 175,
     "metadata": {},
     "output_type": "execute_result"
    }
   ],
   "source": [
    "scores"
   ]
  },
  {
   "cell_type": "code",
   "execution_count": 176,
   "id": "b3c8f9c8",
   "metadata": {},
   "outputs": [
    {
     "data": {
      "text/plain": [
       "0.591481185229365"
      ]
     },
     "execution_count": 176,
     "metadata": {},
     "output_type": "execute_result"
    }
   ],
   "source": [
    "scores.mean()"
   ]
  },
  {
   "cell_type": "markdown",
   "id": "2e054a23",
   "metadata": {},
   "source": [
    "#### 11.3. Trộn mô hình"
   ]
  },
  {
   "cell_type": "code",
   "execution_count": 177,
   "id": "8cac7ee8",
   "metadata": {},
   "outputs": [],
   "source": [
    "from numpy import hstack\n",
    "X_train_1,X_val,y_train_1,y_val=train_test_split(X_train,y_train,test_size=0.1,random_state=2222)\n",
    "\n",
    "def list_models():\n",
    "  models=[]\n",
    "  models.append(('LR',LinearRegression()))\n",
    "  models.append(('GBR',GradientBoostingRegressor()))\n",
    "  return models\n",
    "\n",
    "def fit_all_models(models,X_train,X_val,y_train,y_val):\n",
    "  level_1_feat=[]\n",
    "  for name,model in models:\n",
    "    model.fit(X_train,y_train)\n",
    "    y_hat=model.predict(X_val)\n",
    "    y_hat=y_hat.reshape(len(y_hat),1)\n",
    "    level_1_feat.append(y_hat)\n",
    "\n",
    "  level_1_feat=hstack(level_1_feat)\n",
    "\n",
    "  level_1_estimator= MLPRegressor()\n",
    "\n",
    "  level_1_estimator.fit(level_1_feat,y_val)\n",
    "\n",
    "  return level_1_estimator\n",
    "\n",
    "def pred_data(models,blends,X_test):\n",
    "  meta_model_X=[]\n",
    "  for name,model in models:\n",
    "    yhat=model.predict(X_test)\n",
    "    yhat=yhat.reshape(len(yhat),1)\n",
    "    meta_model_X.append(yhat)\n",
    "  meta_model_X=hstack(meta_model_X)\n",
    "  return blends.predict(meta_model_X)\n",
    "\n",
    "models=list_models()\n",
    "model_blender=fit_all_models(models,X_train_1,X_val,y_train_1,y_val)\n",
    "\n",
    "\n",
    "y_hat=pred_data(models,model_blender,X_train)"
   ]
  },
  {
   "cell_type": "code",
   "execution_count": 178,
   "id": "a4f39514",
   "metadata": {},
   "outputs": [
    {
     "data": {
      "text/plain": [
       "array([1597.62122678, 3186.77783631, 1547.2195114 , ..., 3947.00450704,\n",
       "       1592.33112333, 2039.71010782])"
      ]
     },
     "execution_count": 178,
     "metadata": {},
     "output_type": "execute_result"
    }
   ],
   "source": [
    "y_hat"
   ]
  },
  {
   "cell_type": "markdown",
   "id": "071f3e71",
   "metadata": {},
   "source": [
    "Chia dữ liệu: Dữ liệu huấn luyện (X_train và y_train) được chia thành X_train_1 và X_val (90% và 10% tương ứng) để huấn luyện và kiểm tra các mô hình cơ sở.\n",
    "\n",
    "list_models: Hàm này trả về danh sách các mô hình cơ sở, ở đây là Linear Regression và Gradient Boosting Regressor.\n",
    "\n",
    "fit_all_models: Hàm này huấn luyện từng mô hình cơ sở trên X_train và y_train, sau đó sử dụng chúng để dự đoán trên X_val. Các dự đoán này được sử dụng làm đặc trưng cho mô hình meta (MLPRegressor). Mô hình meta được huấn luyện trên các đặc trưng này và nhãn thực tế y_val.\n",
    "\n",
    "pred_data: Hàm này sử dụng các mô hình cơ sở để dự đoán trên tập kiểm tra X_test. Các dự đoán này sau đó được kết hợp và sử dụng làm đầu vào cho mô hình meta để tạo ra dự đoán cuối cùng."
   ]
  },
  {
   "cell_type": "code",
   "execution_count": 179,
   "id": "7aaf58f3",
   "metadata": {},
   "outputs": [
    {
     "data": {
      "text/plain": [
       "0.6325274467110356"
      ]
     },
     "execution_count": 179,
     "metadata": {},
     "output_type": "execute_result"
    }
   ],
   "source": [
    "from sklearn.metrics import r2_score\n",
    "\n",
    "r2_score(y_train,y_hat)"
   ]
  },
  {
   "cell_type": "code",
   "execution_count": 180,
   "id": "f2c69946",
   "metadata": {},
   "outputs": [],
   "source": [
    "scores=cross_val_score(model_blender,X_train,y_train,cv=3)"
   ]
  },
  {
   "cell_type": "code",
   "execution_count": 181,
   "id": "85b39111",
   "metadata": {},
   "outputs": [
    {
     "data": {
      "text/plain": [
       "array([0.4953846 , 0.45942226, 0.46804743])"
      ]
     },
     "execution_count": 181,
     "metadata": {},
     "output_type": "execute_result"
    }
   ],
   "source": [
    "scores"
   ]
  },
  {
   "cell_type": "code",
   "execution_count": 182,
   "id": "baf44535",
   "metadata": {},
   "outputs": [
    {
     "data": {
      "text/plain": [
       "0.47428476267381914"
      ]
     },
     "execution_count": 182,
     "metadata": {},
     "output_type": "execute_result"
    }
   ],
   "source": [
    "scores.mean()"
   ]
  },
  {
   "cell_type": "markdown",
   "id": "afce50a6",
   "metadata": {},
   "source": [
    "### 12. Đánh giá model"
   ]
  },
  {
   "cell_type": "markdown",
   "id": "b9fd38c8",
   "metadata": {},
   "source": [
    "Dựa vào điểm số của các mô hình, chọn ra một vài mô hình có chỉ số tốt để tiếp tục đánh giá R2 score"
   ]
  },
  {
   "cell_type": "markdown",
   "id": "f954702b",
   "metadata": {},
   "source": [
    "|Mô hình| Điểm số|\n",
    "|:-------|:---------------|\n",
    "|lr| 0.4958178267370769|\n",
    "|ElasticNet| 0.47308329416120437|\n",
    "|RF| 0.5508668604030615|\n",
    "|ETR| 0.49656164264442965|\n",
    "|GBM| 0.5904872051706124|\n",
    "|MLP|0.47995572682451587|\n",
    "|Earth|0.5960558302019042 |\n",
    "|Voting| 0.5500493019007545|\n",
    "|Stacking| 0.5917687487809317|\n",
    "|Blending| 0.4719994337545468|"
   ]
  },
  {
   "cell_type": "markdown",
   "id": "29c34ce5",
   "metadata": {},
   "source": [
    "##### Tiếp tục thử nghiệm mô hình \n",
    "##### Blending\n",
    "##### GBM\n",
    "##### Model Stacking"
   ]
  },
  {
   "cell_type": "code",
   "execution_count": 183,
   "id": "38988471",
   "metadata": {},
   "outputs": [
    {
     "name": "stdout",
     "output_type": "stream",
     "text": [
      "R2 of Blending is\n",
      "0.6070853035614405\n",
      "R2 of Stacking is\n",
      "0.6096664581878655\n",
      "R2 of GBM is\n",
      "0.6096459896165263\n"
     ]
    }
   ],
   "source": [
    "y_pred=pred_data(models,model_blender,X_test)\n",
    "print(\"R2 of Blending is\")\n",
    "print(r2_score(y_test,y_pred))\n",
    "\n",
    "\n",
    "#stacking_model\n",
    "model_stack=stacking_model.fit(X_train,y_train)\n",
    "y_pred=model_stack.predict(X_test)\n",
    "print(\"R2 of Stacking is\")\n",
    "print(r2_score(y_test,y_pred))\n",
    "\n",
    "#GBM\n",
    "model_gbm=GradientBoostingRegressor()\n",
    "model_gbm.fit(X_train,y_train)\n",
    "y_pred=model_gbm.predict(X_test)\n",
    "print(\"R2 of GBM is\")\n",
    "print(r2_score(y_test,y_pred))"
   ]
  },
  {
   "cell_type": "markdown",
   "id": "5888d489",
   "metadata": {},
   "source": [
    "Với mục tiêu ban đầu là chúng ta sẽ sử dụng độ đo R2 để đánh giá hiệu suất mô hình. Sau khi đánh giá trên tập huấn luyện một loạt các mô hình thống kê và mô hình tiên tiến, nhóm chọn ra được mô hình sử dụng kỹ thuật Stacking và Gradient Boosting Regressor mang lại kết quả tốt nhất.\n",
    "Sau khi tiếp tục huấn luyện các mô hình này trên tập dữ liệu huấn luyện, dự đoán trên tập dữ liệu kiểm thử và đánh giá bằng độ đo R2, ta nhận được kết quả là:\n",
    "====> Mô hình tốt nhất là mô hình sử dụng kỹ thuật Stacking giữa một mô hình thống kê và một mô hình tiên tiến là Linear Regression và Gradient Boosting Regressor với R2_score = 0.6096664581878655"
   ]
  },
  {
   "cell_type": "code",
   "execution_count": 184,
   "id": "1070e215",
   "metadata": {},
   "outputs": [
    {
     "name": "stderr",
     "output_type": "stream",
     "text": [
      "  9% (1 of 11) |##                       | Elapsed Time: 0:00:08 ETA:   0:01:20"
     ]
    },
    {
     "name": "stdout",
     "output_type": "stream",
     "text": [
      "did not converge\n"
     ]
    },
    {
     "name": "stderr",
     "output_type": "stream",
     "text": [
      " 18% (2 of 11) |####                     | Elapsed Time: 0:00:18 ETA:   0:01:29"
     ]
    },
    {
     "name": "stdout",
     "output_type": "stream",
     "text": [
      "did not converge\n"
     ]
    },
    {
     "name": "stderr",
     "output_type": "stream",
     "text": [
      " 27% (3 of 11) |######                   | Elapsed Time: 0:00:28 ETA:   0:01:27"
     ]
    },
    {
     "name": "stdout",
     "output_type": "stream",
     "text": [
      "did not converge\n"
     ]
    },
    {
     "name": "stderr",
     "output_type": "stream",
     "text": [
      " 36% (4 of 11) |#########                | Elapsed Time: 0:00:37 ETA:   0:01:00"
     ]
    },
    {
     "name": "stdout",
     "output_type": "stream",
     "text": [
      "did not converge\n"
     ]
    },
    {
     "name": "stderr",
     "output_type": "stream",
     "text": [
      " 45% (5 of 11) |###########              | Elapsed Time: 0:00:47 ETA:   0:01:01"
     ]
    },
    {
     "name": "stdout",
     "output_type": "stream",
     "text": [
      "did not converge\n"
     ]
    },
    {
     "name": "stderr",
     "output_type": "stream",
     "text": [
      " 54% (6 of 11) |#############            | Elapsed Time: 0:00:57 ETA:   0:00:47"
     ]
    },
    {
     "name": "stdout",
     "output_type": "stream",
     "text": [
      "did not converge\n"
     ]
    },
    {
     "name": "stderr",
     "output_type": "stream",
     "text": [
      " 63% (7 of 11) |###############          | Elapsed Time: 0:01:05 ETA:   0:00:32"
     ]
    },
    {
     "name": "stdout",
     "output_type": "stream",
     "text": [
      "did not converge\n"
     ]
    },
    {
     "name": "stderr",
     "output_type": "stream",
     "text": [
      " 72% (8 of 11) |##################       | Elapsed Time: 0:01:13 ETA:   0:00:23"
     ]
    },
    {
     "name": "stdout",
     "output_type": "stream",
     "text": [
      "did not converge\n"
     ]
    },
    {
     "name": "stderr",
     "output_type": "stream",
     "text": [
      " 81% (9 of 11) |####################     | Elapsed Time: 0:01:22 ETA:   0:00:17"
     ]
    },
    {
     "name": "stdout",
     "output_type": "stream",
     "text": [
      "did not converge\n"
     ]
    },
    {
     "name": "stderr",
     "output_type": "stream",
     "text": [
      " 90% (10 of 11) |#####################   | Elapsed Time: 0:01:29 ETA:   0:00:07"
     ]
    },
    {
     "name": "stdout",
     "output_type": "stream",
     "text": [
      "did not converge\n"
     ]
    },
    {
     "name": "stderr",
     "output_type": "stream",
     "text": [
      "100% (11 of 11) |########################| Elapsed Time: 0:01:37 Time:  0:01:37\n"
     ]
    },
    {
     "name": "stdout",
     "output_type": "stream",
     "text": [
      "did not converge\n",
      "0.611967979938837\n"
     ]
    }
   ],
   "source": [
    "from pygam import LinearGAM, PoissonGAM,GammaGAM\n",
    "\n",
    "gam=PoissonGAM(n_splines=5).gridsearch(X_train.values,y_train)\n",
    "y_pred=gam.predict(X_test.values)\n",
    "print(r2_score(y_test,y_pred))"
   ]
  },
  {
   "cell_type": "code",
   "execution_count": 185,
   "id": "1aca483c",
   "metadata": {},
   "outputs": [],
   "source": [
    "model_gbm=GradientBoostingRegressor()\n",
    "scores=cross_val_score(model_gbm,X,y,cv=5)"
   ]
  },
  {
   "cell_type": "code",
   "execution_count": 186,
   "id": "fd9d17b3",
   "metadata": {},
   "outputs": [
    {
     "data": {
      "text/plain": [
       "0.5937505772433365"
      ]
     },
     "execution_count": 186,
     "metadata": {},
     "output_type": "execute_result"
    }
   ],
   "source": [
    "scores.mean()"
   ]
  },
  {
   "cell_type": "code",
   "execution_count": 187,
   "id": "8f35c802",
   "metadata": {},
   "outputs": [
    {
     "data": {
      "text/plain": [
       "0.5949116653546432"
      ]
     },
     "execution_count": 187,
     "metadata": {},
     "output_type": "execute_result"
    }
   ],
   "source": [
    "scores=cross_val_score(stacking_model,X,y,cv=3)\n",
    "scores.mean()"
   ]
  },
  {
   "cell_type": "code",
   "execution_count": null,
   "id": "2c3acda6",
   "metadata": {},
   "outputs": [],
   "source": []
  }
 ],
 "metadata": {
  "kernelspec": {
   "display_name": "Python 3 (ipykernel)",
   "language": "python",
   "name": "python3"
  },
  "language_info": {
   "codemirror_mode": {
    "name": "ipython",
    "version": 3
   },
   "file_extension": ".py",
   "mimetype": "text/x-python",
   "name": "python",
   "nbconvert_exporter": "python",
   "pygments_lexer": "ipython3",
   "version": "3.7.16"
  }
 },
 "nbformat": 4,
 "nbformat_minor": 5
}
